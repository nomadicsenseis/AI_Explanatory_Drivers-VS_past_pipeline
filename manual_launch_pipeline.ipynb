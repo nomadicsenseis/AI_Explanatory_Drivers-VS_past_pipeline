{
 "cells": [
  {
   "cell_type": "markdown",
   "metadata": {
    "pycharm": {
     "name": "#%% md\n"
    }
   },
   "source": [
    "# Develop -- Launch BLVM Pipeline"
   ]
  },
  {
   "cell_type": "code",
   "execution_count": 2,
   "metadata": {
    "collapsed": false,
    "jupyter": {
     "outputs_hidden": false
    },
    "pycharm": {
     "name": "#%%\n"
    }
   },
   "outputs": [],
   "source": [
    "import boto3\n",
    "import sagemaker\n",
    "from datetime import date\n",
    "from sagemaker.workflow.parallelism_config import ParallelismConfiguration\n",
    "\n",
    "import utils"
   ]
  },
  {
   "cell_type": "code",
   "execution_count": 3,
   "metadata": {
    "collapsed": false,
    "jupyter": {
     "outputs_hidden": false
    },
    "pycharm": {
     "name": "#%%\n"
    }
   },
   "outputs": [
    {
     "name": "stdout",
     "output_type": "stream",
     "text": [
      "str_execution_date=2022-12-23\n"
     ]
    }
   ],
   "source": [
    "region = boto3.Session().region_name\n",
    "role = sagemaker.get_execution_role()\n",
    "default_bucket = sagemaker.session.Session().default_bucket()\n",
    "# default_bucket = \"iberia-data-lake\"\n",
    "environment = \"develop\"\n",
    "environment_ppl = \"prod\" if environment == \"production\" else \"sbx\"\n",
    "configuration = utils.read_config_data()\n",
    "str_execution_date = str(date(date.today().year, date.today().month, date.today().day - 5))\n",
    "print(f\"str_execution_date={str_execution_date}\")\n",
    "is_last_date = \"0\"\n",
    "model_version = configuration.get(\"MODEL_VERSION\")\n",
    "vertical = configuration.get(\"VERTICAL\")\n",
    "s3_path = f\"{vertical}/{environment_ppl}/{model_version.lower()}\"\n",
    "s3_path_read = \"customer/customer_models_data\"\n",
    "model_type = \"bl\"\n",
    "use_type = \"train\""
   ]
  },
  {
   "cell_type": "markdown",
   "metadata": {},
   "source": [
    "## Pipeline definition"
   ]
  },
  {
   "cell_type": "code",
   "execution_count": 4,
   "metadata": {},
   "outputs": [
    {
     "name": "stderr",
     "output_type": "stream",
     "text": [
      "This function has been deprecated and could break pipeline step caching. We recommend using the run() function directly with pipeline sessionsto access step arguments.\n"
     ]
    }
   ],
   "source": [
    "from production.pipelines_code.pipeline import get_pipeline as pipeline_definition\n",
    "\n",
    "pipeline_name = (\n",
    "    f\"ibdata-{vertical}-{model_version.lower()}-{environment_ppl}-ppl\"\n",
    ")\n",
    "base_job_prefix = pipeline_name\n",
    "\n",
    "pipe_definition = pipeline_definition(\n",
    "    region=region,\n",
    "    role=role,\n",
    "    default_bucket=default_bucket,\n",
    "    pipeline_name=pipeline_name,\n",
    "    base_job_prefix=base_job_prefix\n",
    ")\n",
    "# all_step.upsert(role_arn=role)"
   ]
  },
  {
   "cell_type": "code",
   "execution_count": 5,
   "metadata": {},
   "outputs": [
    {
     "data": {
      "text/plain": [
       "{'PipelineArn': 'arn:aws:sagemaker:eu-west-1:077156906314:pipeline/ibdata-customer-blv-sbx-ppl',\n",
       " 'PipelineExecutionArn': 'arn:aws:sagemaker:eu-west-1:077156906314:pipeline/ibdata-customer-blv-sbx-ppl/execution/xiz1fh32n9pz',\n",
       " 'PipelineExecutionDisplayName': 'execution-1672240944345',\n",
       " 'PipelineExecutionStatus': 'Executing',\n",
       " 'CreationTime': datetime.datetime(2022, 12, 28, 15, 22, 24, 258000, tzinfo=tzlocal()),\n",
       " 'LastModifiedTime': datetime.datetime(2022, 12, 28, 15, 22, 24, 258000, tzinfo=tzlocal()),\n",
       " 'CreatedBy': {'UserProfileArn': 'arn:aws:sagemaker:eu-west-1:077156906314:user-profile/d-8rnxtw3g36nb/customer-esteban-sanchez',\n",
       "  'UserProfileName': 'customer-esteban-sanchez',\n",
       "  'DomainId': 'd-8rnxtw3g36nb'},\n",
       " 'LastModifiedBy': {'UserProfileArn': 'arn:aws:sagemaker:eu-west-1:077156906314:user-profile/d-8rnxtw3g36nb/customer-esteban-sanchez',\n",
       "  'UserProfileName': 'customer-esteban-sanchez',\n",
       "  'DomainId': 'd-8rnxtw3g36nb'},\n",
       " 'ParallelismConfiguration': {'MaxParallelExecutionSteps': 4},\n",
       " 'ResponseMetadata': {'RequestId': '7c35f50f-bdfd-4dc8-b172-5b5ac1ad6a21',\n",
       "  'HTTPStatusCode': 200,\n",
       "  'HTTPHeaders': {'x-amzn-requestid': '7c35f50f-bdfd-4dc8-b172-5b5ac1ad6a21',\n",
       "   'content-type': 'application/x-amz-json-1.1',\n",
       "   'content-length': '848',\n",
       "   'date': 'Wed, 28 Dec 2022 15:22:24 GMT'},\n",
       "  'RetryAttempts': 0}}"
      ]
     },
     "execution_count": 5,
     "metadata": {},
     "output_type": "execute_result"
    }
   ],
   "source": [
    "# This cell starts an execution of the previous pipeline created\n",
    "execution = pipe_definition.start(\n",
    "    parallelism_config=ParallelismConfiguration(max_parallel_execution_steps=4).to_request(),\n",
    "    parameters=dict(\n",
    "        str_execution_date=str_execution_date,\n",
    "        is_last_date=is_last_date,\n",
    "        s3_path=s3_path,\n",
    "        s3_path_read=s3_path_read,\n",
    "        model_type=model_type,\n",
    "        use_type=use_type\n",
    "    )\n",
    ")\n",
    "execution.describe()"
   ]
  },
  {
   "cell_type": "code",
   "execution_count": null,
   "metadata": {},
   "outputs": [],
   "source": []
  }
 ],
 "metadata": {
  "instance_type": "ml.t3.medium",
  "kernelspec": {
   "display_name": "Python 3 (Data Science)",
   "language": "python",
   "name": "python3__SAGEMAKER_INTERNAL__arn:aws:sagemaker:eu-west-1:470317259841:image/datascience-1.0"
  },
  "language_info": {
   "codemirror_mode": {
    "name": "ipython",
    "version": 3
   },
   "file_extension": ".py",
   "mimetype": "text/x-python",
   "name": "python",
   "nbconvert_exporter": "python",
   "pygments_lexer": "ipython3",
   "version": "3.7.10"
  }
 },
 "nbformat": 4,
 "nbformat_minor": 4
}
