{
 "cells": [
  {
   "cell_type": "markdown",
   "metadata": {},
   "source": [
    "# SHAP VALUES STUDY"
   ]
  },
  {
   "cell_type": "code",
   "execution_count": 2,
   "metadata": {},
   "outputs": [
    {
     "name": "stdout",
     "output_type": "stream",
     "text": [
      "Requirement already satisfied: plotly in /opt/conda/lib/python3.10/site-packages (5.19.0)\n",
      "Requirement already satisfied: tenacity>=6.2.0 in /opt/conda/lib/python3.10/site-packages (from plotly) (8.2.3)\n",
      "Requirement already satisfied: packaging in /opt/conda/lib/python3.10/site-packages (from plotly) (23.2)\n",
      "\u001b[33mWARNING: Running pip as the 'root' user can result in broken permissions and conflicting behaviour with the system package manager. It is recommended to use a virtual environment instead: https://pip.pypa.io/warnings/venv\u001b[0m\u001b[33m\n",
      "\u001b[0mCollecting boto3==1.19.12\n",
      "  Using cached boto3-1.19.12-py3-none-any.whl.metadata (6.4 kB)\n",
      "Collecting botocore<1.23.0,>=1.22.12 (from boto3==1.19.12)\n",
      "  Using cached botocore-1.22.12-py3-none-any.whl.metadata (5.6 kB)\n",
      "Collecting jmespath<1.0.0,>=0.7.1 (from boto3==1.19.12)\n",
      "  Using cached jmespath-0.10.0-py2.py3-none-any.whl.metadata (8.0 kB)\n",
      "Collecting s3transfer<0.6.0,>=0.5.0 (from boto3==1.19.12)\n",
      "  Using cached s3transfer-0.5.2-py3-none-any.whl.metadata (1.7 kB)\n",
      "Requirement already satisfied: python-dateutil<3.0.0,>=2.1 in /opt/conda/lib/python3.10/site-packages (from botocore<1.23.0,>=1.22.12->boto3==1.19.12) (2.9.0)\n",
      "Collecting urllib3<1.27,>=1.25.4 (from botocore<1.23.0,>=1.22.12->boto3==1.19.12)\n",
      "  Using cached urllib3-1.26.18-py2.py3-none-any.whl.metadata (48 kB)\n",
      "Requirement already satisfied: six>=1.5 in /opt/conda/lib/python3.10/site-packages (from python-dateutil<3.0.0,>=2.1->botocore<1.23.0,>=1.22.12->boto3==1.19.12) (1.16.0)\n",
      "Using cached boto3-1.19.12-py3-none-any.whl (131 kB)\n",
      "Using cached botocore-1.22.12-py3-none-any.whl (8.1 MB)\n",
      "Using cached jmespath-0.10.0-py2.py3-none-any.whl (24 kB)\n",
      "Using cached s3transfer-0.5.2-py3-none-any.whl (79 kB)\n",
      "Using cached urllib3-1.26.18-py2.py3-none-any.whl (143 kB)\n",
      "Installing collected packages: urllib3, jmespath, botocore, s3transfer, boto3\n",
      "  Attempting uninstall: urllib3\n",
      "    Found existing installation: urllib3 2.2.1\n",
      "    Uninstalling urllib3-2.2.1:\n",
      "      Successfully uninstalled urllib3-2.2.1\n",
      "  Attempting uninstall: jmespath\n",
      "    Found existing installation: jmespath 1.0.1\n",
      "    Uninstalling jmespath-1.0.1:\n",
      "      Successfully uninstalled jmespath-1.0.1\n",
      "  Attempting uninstall: botocore\n",
      "    Found existing installation: botocore 1.34.84\n",
      "    Uninstalling botocore-1.34.84:\n",
      "      Successfully uninstalled botocore-1.34.84\n",
      "  Attempting uninstall: s3transfer\n",
      "    Found existing installation: s3transfer 0.10.1\n",
      "    Uninstalling s3transfer-0.10.1:\n",
      "      Successfully uninstalled s3transfer-0.10.1\n",
      "  Attempting uninstall: boto3\n",
      "    Found existing installation: boto3 1.34.84\n",
      "    Uninstalling boto3-1.34.84:\n",
      "      Successfully uninstalled boto3-1.34.84\n",
      "\u001b[31mERROR: pip's dependency resolver does not currently take into account all the packages that are installed. This behaviour is the source of the following dependency conflicts.\n",
      "awscli 1.32.84 requires botocore==1.34.84, but you have botocore 1.22.12 which is incompatible.\n",
      "awscli 1.32.84 requires s3transfer<0.11.0,>=0.10.0, but you have s3transfer 0.5.2 which is incompatible.\n",
      "sagemaker 2.215.0 requires boto3<2.0,>=1.33.3, but you have boto3 1.19.12 which is incompatible.\n",
      "sagemaker-studio-analytics-extension 0.0.20 requires boto3<2.0,>=1.26.49, but you have boto3 1.19.12 which is incompatible.\n",
      "sphinx 7.2.6 requires docutils<0.21,>=0.18.1, but you have docutils 0.16 which is incompatible.\u001b[0m\u001b[31m\n",
      "\u001b[0mSuccessfully installed boto3-1.19.12 botocore-1.22.12 jmespath-0.10.0 s3transfer-0.5.2 urllib3-1.26.18\n",
      "\u001b[33mWARNING: Running pip as the 'root' user can result in broken permissions and conflicting behaviour with the system package manager. It is recommended to use a virtual environment instead: https://pip.pypa.io/warnings/venv\u001b[0m\u001b[33m\n",
      "\u001b[0mRequirement already satisfied: s3fs in /opt/conda/lib/python3.10/site-packages (0.4.2)\n",
      "Requirement already satisfied: botocore>=1.12.91 in /opt/conda/lib/python3.10/site-packages (from s3fs) (1.22.12)\n",
      "Requirement already satisfied: fsspec>=0.6.0 in /opt/conda/lib/python3.10/site-packages (from s3fs) (2024.3.1)\n",
      "Requirement already satisfied: jmespath<1.0.0,>=0.7.1 in /opt/conda/lib/python3.10/site-packages (from botocore>=1.12.91->s3fs) (0.10.0)\n",
      "Requirement already satisfied: python-dateutil<3.0.0,>=2.1 in /opt/conda/lib/python3.10/site-packages (from botocore>=1.12.91->s3fs) (2.9.0)\n",
      "Requirement already satisfied: urllib3<1.27,>=1.25.4 in /opt/conda/lib/python3.10/site-packages (from botocore>=1.12.91->s3fs) (1.26.18)\n",
      "Requirement already satisfied: six>=1.5 in /opt/conda/lib/python3.10/site-packages (from python-dateutil<3.0.0,>=2.1->botocore>=1.12.91->s3fs) (1.16.0)\n",
      "\u001b[33mWARNING: Running pip as the 'root' user can result in broken permissions and conflicting behaviour with the system package manager. It is recommended to use a virtual environment instead: https://pip.pypa.io/warnings/venv\u001b[0m\u001b[33m\n",
      "\u001b[0mCollecting lightgbm\n",
      "  Using cached lightgbm-4.3.0-py3-none-manylinux_2_28_x86_64.whl.metadata (19 kB)\n",
      "Requirement already satisfied: numpy in /opt/conda/lib/python3.10/site-packages (from lightgbm) (1.26.4)\n",
      "Requirement already satisfied: scipy in /opt/conda/lib/python3.10/site-packages (from lightgbm) (1.13.0)\n",
      "Using cached lightgbm-4.3.0-py3-none-manylinux_2_28_x86_64.whl (3.1 MB)\n",
      "Installing collected packages: lightgbm\n",
      "Successfully installed lightgbm-4.3.0\n",
      "\u001b[33mWARNING: Running pip as the 'root' user can result in broken permissions and conflicting behaviour with the system package manager. It is recommended to use a virtual environment instead: https://pip.pypa.io/warnings/venv\u001b[0m\u001b[33m\n",
      "\u001b[0mCollecting shap\n",
      "  Using cached shap-0.45.1-cp310-cp310-manylinux_2_12_x86_64.manylinux2010_x86_64.manylinux_2_17_x86_64.manylinux2014_x86_64.whl.metadata (24 kB)\n",
      "Requirement already satisfied: numpy in /opt/conda/lib/python3.10/site-packages (from shap) (1.26.4)\n",
      "Requirement already satisfied: scipy in /opt/conda/lib/python3.10/site-packages (from shap) (1.13.0)\n",
      "Requirement already satisfied: scikit-learn in /opt/conda/lib/python3.10/site-packages (from shap) (1.4.2)\n",
      "Requirement already satisfied: pandas in /opt/conda/lib/python3.10/site-packages (from shap) (2.2.2)\n",
      "Requirement already satisfied: tqdm>=4.27.0 in /opt/conda/lib/python3.10/site-packages (from shap) (4.66.1)\n",
      "Requirement already satisfied: packaging>20.9 in /opt/conda/lib/python3.10/site-packages (from shap) (23.2)\n",
      "Collecting slicer==0.0.8 (from shap)\n",
      "  Using cached slicer-0.0.8-py3-none-any.whl.metadata (4.0 kB)\n",
      "Requirement already satisfied: numba in /opt/conda/lib/python3.10/site-packages (from shap) (0.59.1)\n",
      "Requirement already satisfied: cloudpickle in /opt/conda/lib/python3.10/site-packages (from shap) (2.2.1)\n",
      "Requirement already satisfied: llvmlite<0.43,>=0.42.0dev0 in /opt/conda/lib/python3.10/site-packages (from numba->shap) (0.42.0)\n",
      "Requirement already satisfied: python-dateutil>=2.8.2 in /opt/conda/lib/python3.10/site-packages (from pandas->shap) (2.9.0)\n",
      "Requirement already satisfied: pytz>=2020.1 in /opt/conda/lib/python3.10/site-packages (from pandas->shap) (2024.1)\n",
      "Requirement already satisfied: tzdata>=2022.7 in /opt/conda/lib/python3.10/site-packages (from pandas->shap) (2024.1)\n",
      "Requirement already satisfied: joblib>=1.2.0 in /opt/conda/lib/python3.10/site-packages (from scikit-learn->shap) (1.4.0)\n",
      "Requirement already satisfied: threadpoolctl>=2.0.0 in /opt/conda/lib/python3.10/site-packages (from scikit-learn->shap) (3.4.0)\n",
      "Requirement already satisfied: six>=1.5 in /opt/conda/lib/python3.10/site-packages (from python-dateutil>=2.8.2->pandas->shap) (1.16.0)\n",
      "Using cached shap-0.45.1-cp310-cp310-manylinux_2_12_x86_64.manylinux2010_x86_64.manylinux_2_17_x86_64.manylinux2014_x86_64.whl (540 kB)\n",
      "Using cached slicer-0.0.8-py3-none-any.whl (15 kB)\n",
      "Installing collected packages: slicer, shap\n",
      "Successfully installed shap-0.45.1 slicer-0.0.8\n",
      "\u001b[33mWARNING: Running pip as the 'root' user can result in broken permissions and conflicting behaviour with the system package manager. It is recommended to use a virtual environment instead: https://pip.pypa.io/warnings/venv\u001b[0m\u001b[33m\n",
      "\u001b[0mCollecting catboost\n",
      "  Using cached catboost-1.2.5-cp310-cp310-manylinux2014_x86_64.whl.metadata (1.2 kB)\n",
      "Collecting graphviz (from catboost)\n",
      "  Using cached graphviz-0.20.3-py3-none-any.whl.metadata (12 kB)\n",
      "Requirement already satisfied: matplotlib in /opt/conda/lib/python3.10/site-packages (from catboost) (3.8.4)\n",
      "Requirement already satisfied: numpy>=1.16.0 in /opt/conda/lib/python3.10/site-packages (from catboost) (1.26.4)\n",
      "Requirement already satisfied: pandas>=0.24 in /opt/conda/lib/python3.10/site-packages (from catboost) (2.2.2)\n",
      "Requirement already satisfied: scipy in /opt/conda/lib/python3.10/site-packages (from catboost) (1.13.0)\n",
      "Requirement already satisfied: plotly in /opt/conda/lib/python3.10/site-packages (from catboost) (5.19.0)\n",
      "Requirement already satisfied: six in /opt/conda/lib/python3.10/site-packages (from catboost) (1.16.0)\n",
      "Requirement already satisfied: python-dateutil>=2.8.2 in /opt/conda/lib/python3.10/site-packages (from pandas>=0.24->catboost) (2.9.0)\n",
      "Requirement already satisfied: pytz>=2020.1 in /opt/conda/lib/python3.10/site-packages (from pandas>=0.24->catboost) (2024.1)\n",
      "Requirement already satisfied: tzdata>=2022.7 in /opt/conda/lib/python3.10/site-packages (from pandas>=0.24->catboost) (2024.1)\n",
      "Requirement already satisfied: contourpy>=1.0.1 in /opt/conda/lib/python3.10/site-packages (from matplotlib->catboost) (1.2.1)\n",
      "Requirement already satisfied: cycler>=0.10 in /opt/conda/lib/python3.10/site-packages (from matplotlib->catboost) (0.12.1)\n",
      "Requirement already satisfied: fonttools>=4.22.0 in /opt/conda/lib/python3.10/site-packages (from matplotlib->catboost) (4.51.0)\n",
      "Requirement already satisfied: kiwisolver>=1.3.1 in /opt/conda/lib/python3.10/site-packages (from matplotlib->catboost) (1.4.5)\n",
      "Requirement already satisfied: packaging>=20.0 in /opt/conda/lib/python3.10/site-packages (from matplotlib->catboost) (23.2)\n",
      "Requirement already satisfied: pillow>=8 in /opt/conda/lib/python3.10/site-packages (from matplotlib->catboost) (10.3.0)\n",
      "Requirement already satisfied: pyparsing>=2.3.1 in /opt/conda/lib/python3.10/site-packages (from matplotlib->catboost) (3.1.2)\n",
      "Requirement already satisfied: tenacity>=6.2.0 in /opt/conda/lib/python3.10/site-packages (from plotly->catboost) (8.2.3)\n",
      "Using cached catboost-1.2.5-cp310-cp310-manylinux2014_x86_64.whl (98.2 MB)\n",
      "Using cached graphviz-0.20.3-py3-none-any.whl (47 kB)\n",
      "Installing collected packages: graphviz, catboost\n",
      "Successfully installed catboost-1.2.5 graphviz-0.20.3\n",
      "\u001b[33mWARNING: Running pip as the 'root' user can result in broken permissions and conflicting behaviour with the system package manager. It is recommended to use a virtual environment instead: https://pip.pypa.io/warnings/venv\u001b[0m\u001b[33m\n",
      "\u001b[0m"
     ]
    }
   ],
   "source": [
    "!pip install plotly\n",
    "!pip install boto3==1.19.12\n",
    "!pip install s3fs\n",
    "!pip install lightgbm\n",
    "!pip install shap\n",
    "!pip install catboost"
   ]
  },
  {
   "cell_type": "code",
   "execution_count": 3,
   "metadata": {
    "tags": []
   },
   "outputs": [],
   "source": [
    "!pip freeze > requirements.txt"
   ]
  },
  {
   "cell_type": "markdown",
   "metadata": {},
   "source": [
    "#### Imports"
   ]
  },
  {
   "cell_type": "code",
   "execution_count": 4,
   "metadata": {},
   "outputs": [],
   "source": [
    "# General\n",
    "import pandas as pd\n",
    "from pandas.tseries.offsets import MonthEnd\n",
    "from datetime import datetime, timedelta\n",
    "pd.set_option('display.max_columns', None)\n",
    "pd.set_option('display.float_format', lambda x: '%.3f' % x)\n",
    "import os\n",
    "import numpy as np\n",
    "import datetime\n",
    "import boto3\n",
    "import s3fs\n",
    "from itertools import combinations\n",
    "import pickle\n",
    "\n",
    "# Sklearn\n",
    "from sklearn.model_selection import train_test_split, KFold\n",
    "from sklearn import metrics\n",
    "from sklearn.preprocessing import StandardScaler\n",
    "from sklearn.impute import SimpleImputer\n",
    "from sklearn.model_selection import GridSearchCV\n",
    "from sklearn.metrics import confusion_matrix, accuracy_score, precision_score, recall_score, f1_score, roc_auc_score, log_loss\n",
    "from sklearn.pipeline import make_pipeline\n",
    "from sklearn.preprocessing import StandardScaler, OneHotEncoder\n",
    "from sklearn.compose import ColumnTransformer\n",
    "\n",
    "\n",
    "# Models\n",
    "from catboost import CatBoostClassifier, cv, Pool\n",
    "from sklearn.linear_model import LinearRegression\n",
    "from sklearn.ensemble import GradientBoostingRegressor\n",
    "\n",
    "\n",
    "# Plots\n",
    "import matplotlib.pyplot as plt\n",
    "import seaborn as sns\n",
    "\n",
    "# SHAP\n",
    "import shap\n",
    "\n",
    "# Random\n",
    "import random\n",
    "\n",
    "#Warnings\n",
    "import warnings\n",
    "warnings.filterwarnings(\"ignore\")"
   ]
  },
  {
   "cell_type": "markdown",
   "metadata": {},
   "source": [
    "#### Paths"
   ]
  },
  {
   "cell_type": "code",
   "execution_count": 5,
   "metadata": {},
   "outputs": [],
   "source": [
    "s3_resource = boto3.resource(\"s3\")\n",
    "S3_BUCKET = 'iberia-data-lake'\n",
    "insert_date_ci='2024-04-17'\n",
    "prefix = f'customer/nps_surveys/export_historic/insert_date_ci={insert_date_ci}/'\n",
    "dir_dict = 's3://iberia-data-lake/customer/nps_surveys/nps_dictionaries'\n",
    "\n",
    "lf_dir = 's3://ibdata-prod-ew1-s3-customer/customer/load_factor_to_s3_nps_model/'"
   ]
  },
  {
   "cell_type": "markdown",
   "metadata": {},
   "source": [
    "#### Read data"
   ]
  },
  {
   "cell_type": "code",
   "execution_count": 6,
   "metadata": {},
   "outputs": [],
   "source": [
    "s3_keys = [item.key for item in s3_resource.Bucket(S3_BUCKET).objects.filter(Prefix=prefix)]\n",
    "preprocess_paths = [f\"s3://{S3_BUCKET}/{key}\" for key in s3_keys]\n",
    "df_nps = pd.DataFrame()\n",
    "for file in preprocess_paths:\n",
    "    df = pd.read_csv(file)\n",
    "    df_nps = pd.concat([df_nps, df], axis=0)\n",
    "df_touchpoints = pd.read_csv(f'{dir_dict}/nps_dictionary_touchpoints.csv')\n",
    "df_issues = pd.read_csv(f'{dir_dict}/nps_dictionary_issues.csv')\n",
    "df_nps = df_nps.reset_index(drop=True)"
   ]
  },
  {
   "cell_type": "code",
   "execution_count": 7,
   "metadata": {},
   "outputs": [],
   "source": [
    "df_touchpoints_issues = df_touchpoints.merge(df_issues[[\"associated_touchpoint\", \"issue_type_2\"]],\n",
    "                                             left_on = \"survey_maritz_name\", right_on = \"associated_touchpoint\", how = \"left\")\n",
    "df_touchpoints_issues[\"issue_type_2\"] = df_touchpoints_issues[\"issue_type_2\"].str.lower()\n",
    "df_touchpoints_issues = df_touchpoints_issues.loc[(df_touchpoints_issues[\"issue_type_2\"].notnull())\n",
    "                    & (df_touchpoints_issues[\"issue_type_2\"] != \"issuewifi\")].drop([\"survey_maritz_name\"], axis = 1)\n",
    "issues_list = [i for i in df_touchpoints_issues[\"issue_type_2\"].unique()]"
   ]
  },
  {
   "cell_type": "markdown",
   "metadata": {},
   "source": [
    "For the load_factor data I need to assume the prod role"
   ]
  },
  {
   "cell_type": "code",
   "execution_count": 8,
   "metadata": {
    "tags": []
   },
   "outputs": [],
   "source": [
    "sts_client = boto3.client('sts')\n",
    "\n",
    "assumed_role = sts_client.assume_role(\n",
    "    RoleArn=\"arn:aws:iam::320714865578:role/ibdata-prod-role-assume-customer-services-from-ibdata-aip-prod\",\n",
    "    RoleSessionName=\"test\"\n",
    ")\n",
    "\n",
    "credentials = assumed_role['Credentials']\n",
    "\n",
    "# Configura s3fs para acceder a S3 con tus credenciales\n",
    "fs = s3fs.S3FileSystem(key=credentials['AccessKeyId'], secret=credentials['SecretAccessKey'], token=credentials['SessionToken'])\n",
    "\n",
    "# Especifica la ruta de la carpeta\n",
    "bucket_name = 'ibdata-prod-ew1-s3-customer'\n",
    "folder_path = 'customer/load_factor_to_s3_nps_model/'\n",
    "\n",
    "# Lista todos los archivos en la carpeta\n",
    "files = fs.ls(f'{bucket_name}/{folder_path}')\n",
    "\n",
    "# Leer y concatenar todos los archivos Parquet en un solo DataFrame\n",
    "dataframes = []\n",
    "for file in files:\n",
    "    with fs.open(f's3://{file}') as f:\n",
    "        df = pd.read_csv(f)\n",
    "        dataframes.append(df)\n",
    "\n",
    "# Concat the dfs\n",
    "df_load_factor = pd.concat(dataframes, ignore_index=True)"
   ]
  },
  {
   "cell_type": "code",
   "execution_count": 9,
   "metadata": {
    "tags": []
   },
   "outputs": [
    {
     "data": {
      "text/html": [
       "<div>\n",
       "<style scoped>\n",
       "    .dataframe tbody tr th:only-of-type {\n",
       "        vertical-align: middle;\n",
       "    }\n",
       "\n",
       "    .dataframe tbody tr th {\n",
       "        vertical-align: top;\n",
       "    }\n",
       "\n",
       "    .dataframe thead th {\n",
       "        text-align: right;\n",
       "    }\n",
       "</style>\n",
       "<table border=\"1\" class=\"dataframe\">\n",
       "  <thead>\n",
       "    <tr style=\"text-align: right;\">\n",
       "      <th></th>\n",
       "      <th>flight_date_local</th>\n",
       "      <th>flight_date_utc</th>\n",
       "      <th>operating_carrier</th>\n",
       "      <th>op_flight_num</th>\n",
       "      <th>boardpoint_stn_code_actual</th>\n",
       "      <th>offpoint_stn_code_actual</th>\n",
       "      <th>haul</th>\n",
       "      <th>calc_dep_diff</th>\n",
       "      <th>punctuality</th>\n",
       "      <th>capacity_business</th>\n",
       "      <th>pax_business</th>\n",
       "      <th>capacity_premium_ec</th>\n",
       "      <th>pax_premium_ec</th>\n",
       "      <th>capacity_economy</th>\n",
       "      <th>pax_economy</th>\n",
       "      <th>departure_hour</th>\n",
       "      <th>arrival_hour</th>\n",
       "      <th>aircraft_registration_code_actual</th>\n",
       "    </tr>\n",
       "  </thead>\n",
       "  <tbody>\n",
       "    <tr>\n",
       "      <th>0</th>\n",
       "      <td>2023-11-14</td>\n",
       "      <td>2023-11-14</td>\n",
       "      <td>IB</td>\n",
       "      <td>3426</td>\n",
       "      <td>MAD</td>\n",
       "      <td>CDG</td>\n",
       "      <td>SH</td>\n",
       "      <td>26</td>\n",
       "      <td>OTP15</td>\n",
       "      <td>8</td>\n",
       "      <td>8</td>\n",
       "      <td>0</td>\n",
       "      <td>0</td>\n",
       "      <td>168</td>\n",
       "      <td>167</td>\n",
       "      <td>NaN</td>\n",
       "      <td>NaN</td>\n",
       "      <td>NaN</td>\n",
       "    </tr>\n",
       "    <tr>\n",
       "      <th>1</th>\n",
       "      <td>2023-11-14</td>\n",
       "      <td>2023-11-14</td>\n",
       "      <td>IB</td>\n",
       "      <td>577</td>\n",
       "      <td>SCQ</td>\n",
       "      <td>MAD</td>\n",
       "      <td>SH</td>\n",
       "      <td>-2</td>\n",
       "      <td>NaN</td>\n",
       "      <td>6</td>\n",
       "      <td>1</td>\n",
       "      <td>0</td>\n",
       "      <td>0</td>\n",
       "      <td>132</td>\n",
       "      <td>120</td>\n",
       "      <td>NaN</td>\n",
       "      <td>NaN</td>\n",
       "      <td>NaN</td>\n",
       "    </tr>\n",
       "    <tr>\n",
       "      <th>2</th>\n",
       "      <td>2023-11-14</td>\n",
       "      <td>2023-11-14</td>\n",
       "      <td>IB</td>\n",
       "      <td>6841</td>\n",
       "      <td>MAD</td>\n",
       "      <td>EZE</td>\n",
       "      <td>LH</td>\n",
       "      <td>3</td>\n",
       "      <td>NaN</td>\n",
       "      <td>31</td>\n",
       "      <td>31</td>\n",
       "      <td>24</td>\n",
       "      <td>24</td>\n",
       "      <td>293</td>\n",
       "      <td>293</td>\n",
       "      <td>NaN</td>\n",
       "      <td>NaN</td>\n",
       "      <td>NaN</td>\n",
       "    </tr>\n",
       "    <tr>\n",
       "      <th>3</th>\n",
       "      <td>2023-11-14</td>\n",
       "      <td>2023-11-14</td>\n",
       "      <td>IB</td>\n",
       "      <td>6586</td>\n",
       "      <td>BOG</td>\n",
       "      <td>MAD</td>\n",
       "      <td>LH</td>\n",
       "      <td>2</td>\n",
       "      <td>NaN</td>\n",
       "      <td>31</td>\n",
       "      <td>19</td>\n",
       "      <td>28</td>\n",
       "      <td>20</td>\n",
       "      <td>293</td>\n",
       "      <td>224</td>\n",
       "      <td>NaN</td>\n",
       "      <td>NaN</td>\n",
       "      <td>NaN</td>\n",
       "    </tr>\n",
       "    <tr>\n",
       "      <th>4</th>\n",
       "      <td>2023-11-14</td>\n",
       "      <td>2023-11-15</td>\n",
       "      <td>IB</td>\n",
       "      <td>6314</td>\n",
       "      <td>SJO</td>\n",
       "      <td>MAD</td>\n",
       "      <td>LH</td>\n",
       "      <td>18</td>\n",
       "      <td>OTP15</td>\n",
       "      <td>19</td>\n",
       "      <td>11</td>\n",
       "      <td>0</td>\n",
       "      <td>0</td>\n",
       "      <td>269</td>\n",
       "      <td>249</td>\n",
       "      <td>NaN</td>\n",
       "      <td>NaN</td>\n",
       "      <td>NaN</td>\n",
       "    </tr>\n",
       "    <tr>\n",
       "      <th>...</th>\n",
       "      <td>...</td>\n",
       "      <td>...</td>\n",
       "      <td>...</td>\n",
       "      <td>...</td>\n",
       "      <td>...</td>\n",
       "      <td>...</td>\n",
       "      <td>...</td>\n",
       "      <td>...</td>\n",
       "      <td>...</td>\n",
       "      <td>...</td>\n",
       "      <td>...</td>\n",
       "      <td>...</td>\n",
       "      <td>...</td>\n",
       "      <td>...</td>\n",
       "      <td>...</td>\n",
       "      <td>...</td>\n",
       "      <td>...</td>\n",
       "      <td>...</td>\n",
       "    </tr>\n",
       "    <tr>\n",
       "      <th>729016</th>\n",
       "      <td>2024-06-10</td>\n",
       "      <td>NaN</td>\n",
       "      <td>IB</td>\n",
       "      <td>6402</td>\n",
       "      <td>MEX</td>\n",
       "      <td>MAD</td>\n",
       "      <td>LH</td>\n",
       "      <td>0</td>\n",
       "      <td>NaN</td>\n",
       "      <td>31</td>\n",
       "      <td>31</td>\n",
       "      <td>28</td>\n",
       "      <td>28</td>\n",
       "      <td>293</td>\n",
       "      <td>269</td>\n",
       "      <td>19.000</td>\n",
       "      <td>NaN</td>\n",
       "      <td>ECNXD</td>\n",
       "    </tr>\n",
       "    <tr>\n",
       "      <th>729017</th>\n",
       "      <td>2024-06-10</td>\n",
       "      <td>NaN</td>\n",
       "      <td>IB</td>\n",
       "      <td>6342</td>\n",
       "      <td>SAL</td>\n",
       "      <td>MAD</td>\n",
       "      <td>LH</td>\n",
       "      <td>-15</td>\n",
       "      <td>NaN</td>\n",
       "      <td>19</td>\n",
       "      <td>19</td>\n",
       "      <td>0</td>\n",
       "      <td>0</td>\n",
       "      <td>269</td>\n",
       "      <td>251</td>\n",
       "      <td>19.000</td>\n",
       "      <td>NaN</td>\n",
       "      <td>ECMOU</td>\n",
       "    </tr>\n",
       "    <tr>\n",
       "      <th>729018</th>\n",
       "      <td>2024-06-10</td>\n",
       "      <td>NaN</td>\n",
       "      <td>IB</td>\n",
       "      <td>6118</td>\n",
       "      <td>MIA</td>\n",
       "      <td>MAD</td>\n",
       "      <td>LH</td>\n",
       "      <td>4</td>\n",
       "      <td>NaN</td>\n",
       "      <td>29</td>\n",
       "      <td>29</td>\n",
       "      <td>21</td>\n",
       "      <td>21</td>\n",
       "      <td>242</td>\n",
       "      <td>222</td>\n",
       "      <td>21.000</td>\n",
       "      <td>NaN</td>\n",
       "      <td>ECLZX</td>\n",
       "    </tr>\n",
       "    <tr>\n",
       "      <th>729019</th>\n",
       "      <td>2024-06-10</td>\n",
       "      <td>NaN</td>\n",
       "      <td>IB</td>\n",
       "      <td>6832</td>\n",
       "      <td>SCL</td>\n",
       "      <td>MAD</td>\n",
       "      <td>LH</td>\n",
       "      <td>9</td>\n",
       "      <td>NaN</td>\n",
       "      <td>31</td>\n",
       "      <td>31</td>\n",
       "      <td>24</td>\n",
       "      <td>21</td>\n",
       "      <td>293</td>\n",
       "      <td>288</td>\n",
       "      <td>22.000</td>\n",
       "      <td>NaN</td>\n",
       "      <td>ECNJM</td>\n",
       "    </tr>\n",
       "    <tr>\n",
       "      <th>729020</th>\n",
       "      <td>2024-06-10</td>\n",
       "      <td>NaN</td>\n",
       "      <td>IB</td>\n",
       "      <td>6588</td>\n",
       "      <td>BOG</td>\n",
       "      <td>MAD</td>\n",
       "      <td>LH</td>\n",
       "      <td>-1</td>\n",
       "      <td>NaN</td>\n",
       "      <td>31</td>\n",
       "      <td>26</td>\n",
       "      <td>28</td>\n",
       "      <td>24</td>\n",
       "      <td>293</td>\n",
       "      <td>278</td>\n",
       "      <td>21.000</td>\n",
       "      <td>NaN</td>\n",
       "      <td>ECOAY</td>\n",
       "    </tr>\n",
       "  </tbody>\n",
       "</table>\n",
       "<p>729021 rows × 18 columns</p>\n",
       "</div>"
      ],
      "text/plain": [
       "       flight_date_local flight_date_utc operating_carrier  op_flight_num  \\\n",
       "0             2023-11-14      2023-11-14                IB           3426   \n",
       "1             2023-11-14      2023-11-14                IB            577   \n",
       "2             2023-11-14      2023-11-14                IB           6841   \n",
       "3             2023-11-14      2023-11-14                IB           6586   \n",
       "4             2023-11-14      2023-11-15                IB           6314   \n",
       "...                  ...             ...               ...            ...   \n",
       "729016        2024-06-10             NaN                IB           6402   \n",
       "729017        2024-06-10             NaN                IB           6342   \n",
       "729018        2024-06-10             NaN                IB           6118   \n",
       "729019        2024-06-10             NaN                IB           6832   \n",
       "729020        2024-06-10             NaN                IB           6588   \n",
       "\n",
       "       boardpoint_stn_code_actual offpoint_stn_code_actual haul  \\\n",
       "0                             MAD                      CDG   SH   \n",
       "1                             SCQ                      MAD   SH   \n",
       "2                             MAD                      EZE   LH   \n",
       "3                             BOG                      MAD   LH   \n",
       "4                             SJO                      MAD   LH   \n",
       "...                           ...                      ...  ...   \n",
       "729016                        MEX                      MAD   LH   \n",
       "729017                        SAL                      MAD   LH   \n",
       "729018                        MIA                      MAD   LH   \n",
       "729019                        SCL                      MAD   LH   \n",
       "729020                        BOG                      MAD   LH   \n",
       "\n",
       "        calc_dep_diff punctuality  capacity_business  pax_business  \\\n",
       "0                  26       OTP15                  8             8   \n",
       "1                  -2         NaN                  6             1   \n",
       "2                   3         NaN                 31            31   \n",
       "3                   2         NaN                 31            19   \n",
       "4                  18       OTP15                 19            11   \n",
       "...               ...         ...                ...           ...   \n",
       "729016              0         NaN                 31            31   \n",
       "729017            -15         NaN                 19            19   \n",
       "729018              4         NaN                 29            29   \n",
       "729019              9         NaN                 31            31   \n",
       "729020             -1         NaN                 31            26   \n",
       "\n",
       "        capacity_premium_ec  pax_premium_ec  capacity_economy  pax_economy  \\\n",
       "0                         0               0               168          167   \n",
       "1                         0               0               132          120   \n",
       "2                        24              24               293          293   \n",
       "3                        28              20               293          224   \n",
       "4                         0               0               269          249   \n",
       "...                     ...             ...               ...          ...   \n",
       "729016                   28              28               293          269   \n",
       "729017                    0               0               269          251   \n",
       "729018                   21              21               242          222   \n",
       "729019                   24              21               293          288   \n",
       "729020                   28              24               293          278   \n",
       "\n",
       "        departure_hour  arrival_hour aircraft_registration_code_actual  \n",
       "0                  NaN           NaN                               NaN  \n",
       "1                  NaN           NaN                               NaN  \n",
       "2                  NaN           NaN                               NaN  \n",
       "3                  NaN           NaN                               NaN  \n",
       "4                  NaN           NaN                               NaN  \n",
       "...                ...           ...                               ...  \n",
       "729016          19.000           NaN                             ECNXD  \n",
       "729017          19.000           NaN                             ECMOU  \n",
       "729018          21.000           NaN                             ECLZX  \n",
       "729019          22.000           NaN                             ECNJM  \n",
       "729020          21.000           NaN                             ECOAY  \n",
       "\n",
       "[729021 rows x 18 columns]"
      ]
     },
     "execution_count": 9,
     "metadata": {},
     "output_type": "execute_result"
    }
   ],
   "source": [
    "df_load_factor"
   ]
  },
  {
   "cell_type": "markdown",
   "metadata": {},
   "source": [
    "#### Main information analysis"
   ]
  },
  {
   "cell_type": "markdown",
   "metadata": {},
   "source": [
    "Filter out null tickets"
   ]
  },
  {
   "cell_type": "code",
   "execution_count": 10,
   "metadata": {},
   "outputs": [
    {
     "data": {
      "text/plain": [
       "'2017-01-09'"
      ]
     },
     "execution_count": 10,
     "metadata": {},
     "output_type": "execute_result"
    }
   ],
   "source": [
    "df_nps['date_flight_local'].min()"
   ]
  },
  {
   "cell_type": "code",
   "execution_count": 11,
   "metadata": {
    "tags": []
   },
   "outputs": [
    {
     "data": {
      "text/plain": [
       "231185"
      ]
     },
     "execution_count": 11,
     "metadata": {},
     "output_type": "execute_result"
    }
   ],
   "source": [
    "df_nps['segment'].isna().sum()"
   ]
  },
  {
   "cell_type": "code",
   "execution_count": 12,
   "metadata": {
    "tags": []
   },
   "outputs": [],
   "source": [
    "condition_1 = (df_nps['operating_airline_code'].isin(['IB', 'YW']))\n",
    "condition_2 = ((df_nps['invitegroup_ib'] != 3) | (df_nps['invitegroup_ib'].isnull()))\n",
    "condition_3 = (df_nps['invitegroup'] == 2)\n",
    "\n",
    "df_nps_tkt = df_nps.loc[condition_1 & (condition_2 & condition_3)]"
   ]
  },
  {
   "cell_type": "code",
   "execution_count": 13,
   "metadata": {
    "tags": []
   },
   "outputs": [],
   "source": [
    "df_load_factor = df_load_factor.loc[(df_load_factor['operating_carrier'].isin(['IB', 'YW']))]"
   ]
  },
  {
   "cell_type": "markdown",
   "metadata": {},
   "source": [
    "#### Filter out null ticket num if 2019 is not wanted"
   ]
  },
  {
   "cell_type": "raw",
   "metadata": {},
   "source": [
    "# De momento me quito esta condición porque reduce los datos desde 2017 a 9/2019\n",
    "df_nps['ticket_num_full'] = df_nps.ticket_num.combine_first(df_nps.ticket_num_orig) # Coalesce two ticket_num\n",
    "df_nps_tkt = df_nps[df_nps['ticket_num_full'].notnull()]\n",
    "\n",
    "df_nps_tkt['date_flight_local'].min()\n",
    "df_nps.shape\n",
    "df_nps_tkt.shape\n",
    "\n",
    "condition_1 = (df_nps_tkt['operating_airline_code'].isin(['IB', 'YW']))\n",
    "condition_2 = ((df_nps_tkt['invitegroup_ib'] != 3) | (df_nps_tkt['invitegroup_ib'].isnull()))\n",
    "condition_3 = (df_nps_tkt['invitegroup'] == 2)\n",
    "\n",
    "df_nps_tkt = df_nps_tkt.loc[condition_1 & (condition_2 & condition_3)]"
   ]
  },
  {
   "cell_type": "markdown",
   "metadata": {},
   "source": [
    "#### Cast and format date columns"
   ]
  },
  {
   "cell_type": "code",
   "execution_count": 14,
   "metadata": {},
   "outputs": [],
   "source": [
    "datetime_features = ['date_flight_local', 'scheduled_departure_time_local', 'scheduled_arrival_time_local', 'real_departure_time_local',\n",
    "                     'real_arrival_time_local', 'started']\n",
    "columns_ext = ['tier_level', 'language_code', 'seat_no', 'volume_of_bags', 'number_of_child_in_the_booking', 'number_of_infant_in_the_booking',\n",
    "              'number_of_people_in_the_booking', 'segment', 'customer_journey_origin', 'customer_journey_destination', 'number_of_flights_in_journey',\n",
    "              'order_of_flight_in_journey', 'marketing_airline_code', 'overall_haul', 'weight_category', 'ff_number', 'ticket_num', 'operating_airline_code',\n",
    "              'cabin_in_surveyed_flight', 'nps_category', 'nps_100', 'group_age_survey', 'gender', 'indicator_covid'] # invite_group\n",
    "touchpoints = ['bkg_200_journey_preparation', 'pfl_100_checkin', 'pfl_200_security', 'pfl_300_lounge',\n",
    "               'pfl_500_boarding', 'ifl_300_cabin', 'ifl_200_flight_crew_annoucements', 'ifl_600_wifi', 'ifl_500_ife',\n",
    "               'ifl_400_food_drink', 'ifl_100_cabin_crew', 'arr_100_arrivals', 'con_100_connections', 'pun_100_punctuality',\n",
    "               'loy_200_loyalty_programme', 'inm_400_issues_response', 'img_310_ease_contact_phone']\n",
    "survey_fields = ['cla_600_wifi_t_f', 'tvl_journey_reason']\n",
    "features = datetime_features + columns_ext + touchpoints + survey_fields\n",
    "labels = ['promoter_binary', 'detractor_binary']\n",
    "labels_multi = ['label_multiclass']\n",
    "\n",
    "for feat in datetime_features:\n",
    "    if feat in ['scheduled_departure_time_local', 'scheduled_arrival_time_local', 'real_departure_time_local', 'real_arrival_time_local']:\n",
    "        df_nps_tkt[feat] = pd.to_datetime(df_nps_tkt[feat], format=\"%Y%m%d %H:%M:%S\", errors = 'coerce')\n",
    "    else:\n",
    "        df_nps_tkt[feat] = pd.to_datetime(df_nps_tkt[feat], errors = 'ignore')\n",
    "df_nps_tkt['time_spent_hrminsec'] = pd.to_timedelta(df_nps_tkt['time_spent_hrminsec']).dt.total_seconds()\n",
    "df_nps_tkt['started_hour'] = df_nps_tkt['started'].dt.hour\n",
    "df_nps_tkt['year_flight'] = df_nps_tkt['date_flight_local'].dt.year\n",
    "df_nps_tkt['month_flight'] = df_nps_tkt['date_flight_local'].dt.month\n",
    "df_nps_tkt['day_flight'] = df_nps_tkt['date_flight_local'].dt.day\n",
    "df_nps_tkt['weekday_flight'] = df_nps_tkt['date_flight_local'].dt.weekday\n",
    "df_nps_tkt['is_weekend_or_friday_flight'] = df_nps_tkt['weekday_flight'].apply(lambda x: 1 if x in [5, 6,7] else 0)\n",
    "df_nps_tkt['delay_departure'] = (df_nps_tkt['real_departure_time_local'] - df_nps_tkt['scheduled_departure_time_local']).dt.total_seconds()/60\n",
    "df_nps_tkt['delay_arrival'] = (df_nps_tkt['real_arrival_time_local'] - df_nps_tkt['scheduled_arrival_time_local']).dt.total_seconds()/60\n",
    "datetime_features = datetime_features + ['time_spent_hrminsec', 'started_hour', 'year_flight', 'month_flight',\n",
    "                                         'day_flight', 'weekday_flight', 'is_weekend_or_friday_flight']"
   ]
  },
  {
   "cell_type": "code",
   "execution_count": 15,
   "metadata": {
    "tags": []
   },
   "outputs": [],
   "source": [
    "df_load_factor['flight_date_local'] = pd.to_datetime(df_load_factor['flight_date_local'])"
   ]
  },
  {
   "cell_type": "markdown",
   "metadata": {},
   "source": [
    "#### Filter out covid years"
   ]
  },
  {
   "cell_type": "code",
   "execution_count": 16,
   "metadata": {},
   "outputs": [],
   "source": [
    "df_nps_tkt = df_nps_tkt[~df_nps_tkt['date_flight_local'].dt.year.isin([2020, 2021])]"
   ]
  },
  {
   "cell_type": "code",
   "execution_count": 17,
   "metadata": {
    "tags": []
   },
   "outputs": [],
   "source": [
    "df_load_factor = df_load_factor[~df_load_factor['flight_date_local'].dt.year.isin([2020, 2021])]"
   ]
  },
  {
   "cell_type": "code",
   "execution_count": 18,
   "metadata": {},
   "outputs": [
    {
     "data": {
      "text/plain": [
       "37        NaN\n",
       "53        NaN\n",
       "54        NaN\n",
       "69        NaN\n",
       "86        NaN\n",
       "           ..\n",
       "1000238   NaN\n",
       "1000251   NaN\n",
       "1000286   NaN\n",
       "1000314   NaN\n",
       "1000353   NaN\n",
       "Name: delay_departure, Length: 7982, dtype: float64"
      ]
     },
     "execution_count": 18,
     "metadata": {},
     "output_type": "execute_result"
    }
   ],
   "source": [
    "df_nps_tkt[(df_nps_tkt['date_flight_local'].dt.year==2019) & (df_nps_tkt['date_flight_local'].dt.month==1)]['delay_departure']"
   ]
  },
  {
   "cell_type": "markdown",
   "metadata": {},
   "source": [
    "#### Preprocess numerical variables"
   ]
  },
  {
   "cell_type": "code",
   "execution_count": 19,
   "metadata": {},
   "outputs": [
    {
     "data": {
      "image/png": "[encoded data removed]",
      "text/plain": [
       "<Figure size 1000x600 with 1 Axes>"
      ]
     },
     "metadata": {},
     "output_type": "display_data"
    }
   ],
   "source": [
    "# Crear el gráfico de la distribución\n",
    "plt.figure(figsize=(10, 6))\n",
    "sns.histplot(df_nps_tkt['delay_departure'], kde=True, color=\"skyblue\", bins=30)\n",
    "plt.title('Distribución de Delay Departure')\n",
    "plt.xlabel('Retraso en la Salida (minutos)')\n",
    "plt.ylabel('Frecuencia')\n",
    "plt.show()"
   ]
  },
  {
   "cell_type": "code",
   "execution_count": 20,
   "metadata": {
    "tags": []
   },
   "outputs": [
    {
     "data": {
      "image/png": "[encoded data removed]",
      "text/plain": [
       "<Figure size 1000x600 with 1 Axes>"
      ]
     },
     "metadata": {},
     "output_type": "display_data"
    }
   ],
   "source": [
    "# Crear el gráfico de la distribución\n",
    "plt.figure(figsize=(10, 6))\n",
    "sns.histplot(df_nps_tkt['ticket_price'], kde=True, color=\"skyblue\", bins=30)\n",
    "plt.title('Distribución de ticket price')\n",
    "plt.xlabel('Retraso en la Salida ($)')\n",
    "plt.ylabel('Frecuencia')\n",
    "plt.show()"
   ]
  },
  {
   "cell_type": "raw",
   "metadata": {
    "tags": []
   },
   "source": [
    "# Calculamos el primer y tercer cuartil\n",
    "Q1 = df_nps_tkt['delay_departure'].quantile(0.05)\n",
    "Q3 = df_nps_tkt['delay_departure'].quantile(0.95)\n",
    "\n",
    "# Calculamos el rango intercuartílico (IQR)\n",
    "IQR = Q3 - Q1\n",
    "\n",
    "# Definimos los límites para considerar un dato como atípico\n",
    "lower_bound = Q1 - 1.5 * IQR\n",
    "upper_bound = Q3 + 1.5 * IQR\n",
    "\n",
    "# Filtramos los datos para eliminar los atípicos\n",
    "df_nps_tkt = df_nps_tkt[(df_nps_tkt['delay_departure'] >= lower_bound) & (df_nps_tkt['delay_departure'] <= upper_bound)]\n",
    "\n",
    "# df_filtered es tu DataFrame sin los valores atípicos en 'delay_departure'\n"
   ]
  },
  {
   "cell_type": "raw",
   "metadata": {
    "tags": []
   },
   "source": [
    "# Calculamos el primer y tercer cuartil\n",
    "Q1 = df_nps_tkt['ticket_price'].quantile(0.05)\n",
    "Q3 = df_nps_tkt['ticket_price'].quantile(0.95)\n",
    "\n",
    "# Calculamos el rango intercuartílico (IQR)\n",
    "IQR = Q3 - Q1\n",
    "\n",
    "# Definimos los límites para considerar un dato como atípico\n",
    "lower_bound = Q1 - 1.5 * IQR\n",
    "upper_bound = Q3 + 1.5 * IQR\n",
    "\n",
    "# Filtramos los datos para eliminar los atípicos\n",
    "df_nps_tkt = df_nps_tkt[(df_nps_tkt['ticket_price'] >= lower_bound) & (df_nps_tkt['ticket_price'] <= upper_bound)]"
   ]
  },
  {
   "cell_type": "raw",
   "metadata": {
    "tags": []
   },
   "source": [
    "# Crear el gráfico de la distribución\n",
    "plt.figure(figsize=(10, 6))\n",
    "sns.histplot(df_nps_tkt['delay_departure'], kde=True, color=\"skyblue\", bins=30)\n",
    "plt.title('Distribución de Delay Departure')\n",
    "plt.xlabel('Retraso en la Salida (minutos)')\n",
    "plt.ylabel('Frecuencia')\n",
    "plt.show()"
   ]
  },
  {
   "cell_type": "raw",
   "metadata": {
    "tags": []
   },
   "source": [
    "# Crear el gráfico de la distribución\n",
    "plt.figure(figsize=(10, 6))\n",
    "sns.histplot(df_nps_tkt['ticket_price'], kde=True, color=\"skyblue\", bins=30)\n",
    "plt.title('Distribución de ticket price')\n",
    "plt.xlabel('Precio ($)')\n",
    "plt.ylabel('Frecuencia')\n",
    "plt.show()"
   ]
  },
  {
   "cell_type": "raw",
   "metadata": {
    "tags": []
   },
   "source": [
    "df_nps_tkt = df_nps_tkt[df_nps_tkt['delay_departure'] >= 0]"
   ]
  },
  {
   "cell_type": "raw",
   "metadata": {
    "tags": []
   },
   "source": [
    "# Crear el gráfico de la distribución\n",
    "plt.figure(figsize=(10, 6))\n",
    "sns.histplot(df_nps_tkt['delay_departure'], kde=True, color=\"skyblue\", bins=30)\n",
    "plt.title('Distribución de Delay Departure')\n",
    "plt.xlabel('Retraso en la Salida (minutos)')\n",
    "plt.ylabel('Frecuencia')\n",
    "plt.show()"
   ]
  },
  {
   "cell_type": "markdown",
   "metadata": {},
   "source": [
    "#### Create otp and load_factor variables\n"
   ]
  },
  {
   "cell_type": "code",
   "execution_count": 21,
   "metadata": {
    "tags": []
   },
   "outputs": [
    {
     "data": {
      "text/plain": [
       "1          1\n",
       "2          0\n",
       "3          1\n",
       "4          0\n",
       "5          0\n",
       "          ..\n",
       "1027307    1\n",
       "1027308    0\n",
       "1027309    0\n",
       "1027310    0\n",
       "1027311    1\n",
       "Name: otp15_takeoff, Length: 780410, dtype: int64"
      ]
     },
     "execution_count": 21,
     "metadata": {},
     "output_type": "execute_result"
    }
   ],
   "source": [
    "df_nps_tkt['otp15_takeoff'] = (df_nps_tkt['delay'] > 15).astype(int)\n",
    "df_nps_tkt['otp15_takeoff']\n"
   ]
  },
  {
   "cell_type": "code",
   "execution_count": 22,
   "metadata": {
    "tags": []
   },
   "outputs": [
    {
     "data": {
      "text/plain": [
       "Index(['flight_date_local', 'flight_date_utc', 'operating_carrier',\n",
       "       'op_flight_num', 'boardpoint_stn_code_actual',\n",
       "       'offpoint_stn_code_actual', 'haul', 'calc_dep_diff', 'punctuality',\n",
       "       'capacity_business', 'pax_business', 'capacity_premium_ec',\n",
       "       'pax_premium_ec', 'capacity_economy', 'pax_economy', 'departure_hour',\n",
       "       'arrival_hour', 'aircraft_registration_code_actual'],\n",
       "      dtype='object')"
      ]
     },
     "execution_count": 22,
     "metadata": {},
     "output_type": "execute_result"
    }
   ],
   "source": [
    "df_load_factor.columns"
   ]
  },
  {
   "cell_type": "code",
   "execution_count": 23,
   "metadata": {
    "tags": []
   },
   "outputs": [
    {
     "data": {
      "text/plain": [
       "Index(['flight_date_local', 'flight_date_utc', 'operating_carrier',\n",
       "       'op_flight_num', 'boardpoint_stn_code_actual',\n",
       "       'offpoint_stn_code_actual', 'haul', 'calc_dep_diff', 'punctuality',\n",
       "       'capacity_business', 'pax_business', 'capacity_premium_ec',\n",
       "       'pax_premium_ec', 'capacity_economy', 'pax_economy', 'departure_hour',\n",
       "       'arrival_hour', 'aircraft_registration_code_actual'],\n",
       "      dtype='object')"
      ]
     },
     "execution_count": 23,
     "metadata": {},
     "output_type": "execute_result"
    }
   ],
   "source": [
    "df_load_factor.columns"
   ]
  },
  {
   "cell_type": "code",
   "execution_count": 24,
   "metadata": {
    "tags": []
   },
   "outputs": [
    {
     "data": {
      "text/html": [
       "<div>\n",
       "<style scoped>\n",
       "    .dataframe tbody tr th:only-of-type {\n",
       "        vertical-align: middle;\n",
       "    }\n",
       "\n",
       "    .dataframe tbody tr th {\n",
       "        vertical-align: top;\n",
       "    }\n",
       "\n",
       "    .dataframe thead th {\n",
       "        text-align: right;\n",
       "    }\n",
       "</style>\n",
       "<table border=\"1\" class=\"dataframe\">\n",
       "  <thead>\n",
       "    <tr style=\"text-align: right;\">\n",
       "      <th></th>\n",
       "      <th>load_factor_business</th>\n",
       "      <th>load_factor_premium_ec</th>\n",
       "      <th>load_factor_economy</th>\n",
       "    </tr>\n",
       "  </thead>\n",
       "  <tbody>\n",
       "    <tr>\n",
       "      <th>0</th>\n",
       "      <td>1.000</td>\n",
       "      <td>NaN</td>\n",
       "      <td>0.994</td>\n",
       "    </tr>\n",
       "    <tr>\n",
       "      <th>1</th>\n",
       "      <td>0.167</td>\n",
       "      <td>NaN</td>\n",
       "      <td>0.909</td>\n",
       "    </tr>\n",
       "    <tr>\n",
       "      <th>2</th>\n",
       "      <td>1.000</td>\n",
       "      <td>1.000</td>\n",
       "      <td>1.000</td>\n",
       "    </tr>\n",
       "    <tr>\n",
       "      <th>3</th>\n",
       "      <td>0.613</td>\n",
       "      <td>0.714</td>\n",
       "      <td>0.765</td>\n",
       "    </tr>\n",
       "    <tr>\n",
       "      <th>4</th>\n",
       "      <td>0.579</td>\n",
       "      <td>NaN</td>\n",
       "      <td>0.926</td>\n",
       "    </tr>\n",
       "  </tbody>\n",
       "</table>\n",
       "</div>"
      ],
      "text/plain": [
       "   load_factor_business  load_factor_premium_ec  load_factor_economy\n",
       "0                 1.000                     NaN                0.994\n",
       "1                 0.167                     NaN                0.909\n",
       "2                 1.000                   1.000                1.000\n",
       "3                 0.613                   0.714                0.765\n",
       "4                 0.579                     NaN                0.926"
      ]
     },
     "execution_count": 24,
     "metadata": {},
     "output_type": "execute_result"
    }
   ],
   "source": [
    "# Asumiendo que df_load_factor es tu DataFrame y ya está definido con las columnas relevantes\n",
    "\n",
    "# Calculando el factor de carga para cada cabina\n",
    "df_load_factor['load_factor_business'] = df_load_factor['pax_business'] / df_load_factor['capacity_business']\n",
    "df_load_factor['load_factor_premium_ec'] = df_load_factor['pax_premium_ec'] / df_load_factor['capacity_premium_ec']\n",
    "df_load_factor['load_factor_economy'] = df_load_factor['pax_economy'] / df_load_factor['capacity_economy']\n",
    "\n",
    "# Mostrando las nuevas columnas con los factores de carga calculados\n",
    "df_load_factor[['load_factor_business', 'load_factor_premium_ec', 'load_factor_economy']].head()\n"
   ]
  },
  {
   "cell_type": "code",
   "execution_count": 25,
   "metadata": {
    "tags": []
   },
   "outputs": [
    {
     "data": {
      "text/html": [
       "<div>\n",
       "<style scoped>\n",
       "    .dataframe tbody tr th:only-of-type {\n",
       "        vertical-align: middle;\n",
       "    }\n",
       "\n",
       "    .dataframe tbody tr th {\n",
       "        vertical-align: top;\n",
       "    }\n",
       "\n",
       "    .dataframe thead th {\n",
       "        text-align: right;\n",
       "    }\n",
       "</style>\n",
       "<table border=\"1\" class=\"dataframe\">\n",
       "  <thead>\n",
       "    <tr style=\"text-align: right;\">\n",
       "      <th></th>\n",
       "      <th>year_month</th>\n",
       "      <th>haul</th>\n",
       "      <th>load_factor_business</th>\n",
       "      <th>load_factor_premium_ec</th>\n",
       "      <th>load_factor_economy</th>\n",
       "    </tr>\n",
       "  </thead>\n",
       "  <tbody>\n",
       "    <tr>\n",
       "      <th>0</th>\n",
       "      <td>2023-01</td>\n",
       "      <td>LH</td>\n",
       "      <td>0.869</td>\n",
       "      <td>0.819</td>\n",
       "      <td>0.849</td>\n",
       "    </tr>\n",
       "    <tr>\n",
       "      <th>1</th>\n",
       "      <td>2023-01</td>\n",
       "      <td>SH</td>\n",
       "      <td>0.587</td>\n",
       "      <td>NaN</td>\n",
       "      <td>0.786</td>\n",
       "    </tr>\n",
       "    <tr>\n",
       "      <th>2</th>\n",
       "      <td>2023-02</td>\n",
       "      <td>LH</td>\n",
       "      <td>0.885</td>\n",
       "      <td>0.797</td>\n",
       "      <td>0.866</td>\n",
       "    </tr>\n",
       "    <tr>\n",
       "      <th>3</th>\n",
       "      <td>2023-02</td>\n",
       "      <td>SH</td>\n",
       "      <td>0.666</td>\n",
       "      <td>NaN</td>\n",
       "      <td>0.845</td>\n",
       "    </tr>\n",
       "    <tr>\n",
       "      <th>4</th>\n",
       "      <td>2023-03</td>\n",
       "      <td>LH</td>\n",
       "      <td>0.912</td>\n",
       "      <td>0.832</td>\n",
       "      <td>0.874</td>\n",
       "    </tr>\n",
       "    <tr>\n",
       "      <th>5</th>\n",
       "      <td>2023-03</td>\n",
       "      <td>SH</td>\n",
       "      <td>0.707</td>\n",
       "      <td>NaN</td>\n",
       "      <td>0.856</td>\n",
       "    </tr>\n",
       "    <tr>\n",
       "      <th>6</th>\n",
       "      <td>2023-04</td>\n",
       "      <td>LH</td>\n",
       "      <td>0.906</td>\n",
       "      <td>0.849</td>\n",
       "      <td>0.882</td>\n",
       "    </tr>\n",
       "    <tr>\n",
       "      <th>7</th>\n",
       "      <td>2023-04</td>\n",
       "      <td>SH</td>\n",
       "      <td>0.666</td>\n",
       "      <td>0.952</td>\n",
       "      <td>0.840</td>\n",
       "    </tr>\n",
       "    <tr>\n",
       "      <th>8</th>\n",
       "      <td>2023-05</td>\n",
       "      <td>LH</td>\n",
       "      <td>0.937</td>\n",
       "      <td>0.873</td>\n",
       "      <td>0.872</td>\n",
       "    </tr>\n",
       "    <tr>\n",
       "      <th>9</th>\n",
       "      <td>2023-05</td>\n",
       "      <td>SH</td>\n",
       "      <td>0.683</td>\n",
       "      <td>0.979</td>\n",
       "      <td>0.841</td>\n",
       "    </tr>\n",
       "    <tr>\n",
       "      <th>10</th>\n",
       "      <td>2023-06</td>\n",
       "      <td>LH</td>\n",
       "      <td>0.937</td>\n",
       "      <td>0.894</td>\n",
       "      <td>0.913</td>\n",
       "    </tr>\n",
       "    <tr>\n",
       "      <th>11</th>\n",
       "      <td>2023-06</td>\n",
       "      <td>SH</td>\n",
       "      <td>0.738</td>\n",
       "      <td>0.980</td>\n",
       "      <td>0.869</td>\n",
       "    </tr>\n",
       "    <tr>\n",
       "      <th>12</th>\n",
       "      <td>2023-07</td>\n",
       "      <td>LH</td>\n",
       "      <td>0.915</td>\n",
       "      <td>0.887</td>\n",
       "      <td>0.932</td>\n",
       "    </tr>\n",
       "    <tr>\n",
       "      <th>13</th>\n",
       "      <td>2023-07</td>\n",
       "      <td>SH</td>\n",
       "      <td>0.688</td>\n",
       "      <td>0.000</td>\n",
       "      <td>0.857</td>\n",
       "    </tr>\n",
       "    <tr>\n",
       "      <th>14</th>\n",
       "      <td>2023-08</td>\n",
       "      <td>LH</td>\n",
       "      <td>0.878</td>\n",
       "      <td>0.845</td>\n",
       "      <td>0.920</td>\n",
       "    </tr>\n",
       "    <tr>\n",
       "      <th>15</th>\n",
       "      <td>2023-08</td>\n",
       "      <td>SH</td>\n",
       "      <td>0.646</td>\n",
       "      <td>0.467</td>\n",
       "      <td>0.855</td>\n",
       "    </tr>\n",
       "    <tr>\n",
       "      <th>16</th>\n",
       "      <td>2023-09</td>\n",
       "      <td>LH</td>\n",
       "      <td>0.927</td>\n",
       "      <td>0.889</td>\n",
       "      <td>0.897</td>\n",
       "    </tr>\n",
       "    <tr>\n",
       "      <th>17</th>\n",
       "      <td>2023-09</td>\n",
       "      <td>SH</td>\n",
       "      <td>0.701</td>\n",
       "      <td>NaN</td>\n",
       "      <td>0.847</td>\n",
       "    </tr>\n",
       "    <tr>\n",
       "      <th>18</th>\n",
       "      <td>2023-10</td>\n",
       "      <td>LH</td>\n",
       "      <td>0.930</td>\n",
       "      <td>0.882</td>\n",
       "      <td>0.887</td>\n",
       "    </tr>\n",
       "    <tr>\n",
       "      <th>19</th>\n",
       "      <td>2023-10</td>\n",
       "      <td>SH</td>\n",
       "      <td>0.695</td>\n",
       "      <td>0.000</td>\n",
       "      <td>0.842</td>\n",
       "    </tr>\n",
       "    <tr>\n",
       "      <th>20</th>\n",
       "      <td>2023-11</td>\n",
       "      <td>LH</td>\n",
       "      <td>0.901</td>\n",
       "      <td>0.858</td>\n",
       "      <td>0.866</td>\n",
       "    </tr>\n",
       "    <tr>\n",
       "      <th>21</th>\n",
       "      <td>2023-11</td>\n",
       "      <td>SH</td>\n",
       "      <td>0.676</td>\n",
       "      <td>0.220</td>\n",
       "      <td>0.837</td>\n",
       "    </tr>\n",
       "    <tr>\n",
       "      <th>22</th>\n",
       "      <td>2023-12</td>\n",
       "      <td>LH</td>\n",
       "      <td>0.864</td>\n",
       "      <td>0.829</td>\n",
       "      <td>0.869</td>\n",
       "    </tr>\n",
       "    <tr>\n",
       "      <th>23</th>\n",
       "      <td>2023-12</td>\n",
       "      <td>SH</td>\n",
       "      <td>0.631</td>\n",
       "      <td>0.881</td>\n",
       "      <td>0.814</td>\n",
       "    </tr>\n",
       "  </tbody>\n",
       "</table>\n",
       "</div>"
      ],
      "text/plain": [
       "   year_month haul  load_factor_business  load_factor_premium_ec  \\\n",
       "0     2023-01   LH                 0.869                   0.819   \n",
       "1     2023-01   SH                 0.587                     NaN   \n",
       "2     2023-02   LH                 0.885                   0.797   \n",
       "3     2023-02   SH                 0.666                     NaN   \n",
       "4     2023-03   LH                 0.912                   0.832   \n",
       "5     2023-03   SH                 0.707                     NaN   \n",
       "6     2023-04   LH                 0.906                   0.849   \n",
       "7     2023-04   SH                 0.666                   0.952   \n",
       "8     2023-05   LH                 0.937                   0.873   \n",
       "9     2023-05   SH                 0.683                   0.979   \n",
       "10    2023-06   LH                 0.937                   0.894   \n",
       "11    2023-06   SH                 0.738                   0.980   \n",
       "12    2023-07   LH                 0.915                   0.887   \n",
       "13    2023-07   SH                 0.688                   0.000   \n",
       "14    2023-08   LH                 0.878                   0.845   \n",
       "15    2023-08   SH                 0.646                   0.467   \n",
       "16    2023-09   LH                 0.927                   0.889   \n",
       "17    2023-09   SH                 0.701                     NaN   \n",
       "18    2023-10   LH                 0.930                   0.882   \n",
       "19    2023-10   SH                 0.695                   0.000   \n",
       "20    2023-11   LH                 0.901                   0.858   \n",
       "21    2023-11   SH                 0.676                   0.220   \n",
       "22    2023-12   LH                 0.864                   0.829   \n",
       "23    2023-12   SH                 0.631                   0.881   \n",
       "\n",
       "    load_factor_economy  \n",
       "0                 0.849  \n",
       "1                 0.786  \n",
       "2                 0.866  \n",
       "3                 0.845  \n",
       "4                 0.874  \n",
       "5                 0.856  \n",
       "6                 0.882  \n",
       "7                 0.840  \n",
       "8                 0.872  \n",
       "9                 0.841  \n",
       "10                0.913  \n",
       "11                0.869  \n",
       "12                0.932  \n",
       "13                0.857  \n",
       "14                0.920  \n",
       "15                0.855  \n",
       "16                0.897  \n",
       "17                0.847  \n",
       "18                0.887  \n",
       "19                0.842  \n",
       "20                0.866  \n",
       "21                0.837  \n",
       "22                0.869  \n",
       "23                0.814  "
      ]
     },
     "execution_count": 25,
     "metadata": {},
     "output_type": "execute_result"
    }
   ],
   "source": [
    "# Asegurarse de que 'flight_date_local' está en formato datetime\n",
    "df_load_factor['flight_date_local'] = pd.to_datetime(df_load_factor['flight_date_local'])\n",
    "\n",
    "# Filtrar solo los vuelos de 2023\n",
    "df_2023 = df_load_factor[df_load_factor['flight_date_local'].dt.year == 2023]\n",
    "\n",
    "# Extraer mes y año de 'flight_date_local'\n",
    "df_2023['year_month'] = df_2023['flight_date_local'].dt.to_period('M')\n",
    "\n",
    "# Agrupar por 'year_month' y 'haul', sumar los pax y capacidad para cada cabina\n",
    "grouped = df_2023.groupby(['year_month', 'haul']).agg(\n",
    "    total_pax_business=pd.NamedAgg(column='pax_business', aggfunc='sum'),\n",
    "    total_capacity_business=pd.NamedAgg(column='capacity_business', aggfunc='sum'),\n",
    "    total_pax_premium_ec=pd.NamedAgg(column='pax_premium_ec', aggfunc='sum'),\n",
    "    total_capacity_premium_ec=pd.NamedAgg(column='capacity_premium_ec', aggfunc='sum'),\n",
    "    total_pax_economy=pd.NamedAgg(column='pax_economy', aggfunc='sum'),\n",
    "    total_capacity_economy=pd.NamedAgg(column='capacity_economy', aggfunc='sum')\n",
    ").reset_index()\n",
    "\n",
    "# Calcular el factor de carga para cada cabina\n",
    "grouped['load_factor_business'] = grouped['total_pax_business'] / grouped['total_capacity_business']\n",
    "grouped['load_factor_premium_ec'] = grouped['total_pax_premium_ec'] / grouped['total_capacity_premium_ec']\n",
    "grouped['load_factor_economy'] = grouped['total_pax_economy'] / grouped['total_capacity_economy']\n",
    "\n",
    "# Mostrando los resultados\n",
    "grouped[['year_month', 'haul', 'load_factor_business', 'load_factor_premium_ec', 'load_factor_economy']]\n",
    "\n"
   ]
  },
  {
   "cell_type": "code",
   "execution_count": 26,
   "metadata": {
    "tags": []
   },
   "outputs": [
    {
     "data": {
      "text/plain": [
       "array(['Economy', 'Business', 'Premium Economy'], dtype=object)"
      ]
     },
     "execution_count": 26,
     "metadata": {},
     "output_type": "execute_result"
    }
   ],
   "source": [
    "df_nps['cabin_in_surveyed_flight'].unique()"
   ]
  },
  {
   "cell_type": "code",
   "execution_count": 27,
   "metadata": {
    "tags": []
   },
   "outputs": [
    {
     "data": {
      "text/plain": [
       "array(['YW', 'IB', nan], dtype=object)"
      ]
     },
     "execution_count": 27,
     "metadata": {},
     "output_type": "execute_result"
    }
   ],
   "source": [
    "df_nps['operating_airline_code'].unique()"
   ]
  },
  {
   "cell_type": "code",
   "execution_count": 28,
   "metadata": {
    "tags": []
   },
   "outputs": [
    {
     "data": {
      "text/plain": [
       "1          YW\n",
       "2          YW\n",
       "3          IB\n",
       "4          IB\n",
       "5          IB\n",
       "           ..\n",
       "1027307    IB\n",
       "1027308    YW\n",
       "1027309    IB\n",
       "1027310    YW\n",
       "1027311    IB\n",
       "Name: operating_airline_code, Length: 780410, dtype: object"
      ]
     },
     "execution_count": 28,
     "metadata": {},
     "output_type": "execute_result"
    }
   ],
   "source": [
    "df_nps_tkt['operating_airline_code']"
   ]
  },
  {
   "cell_type": "code",
   "execution_count": null,
   "metadata": {},
   "outputs": [],
   "source": []
  },
  {
   "cell_type": "code",
   "execution_count": 29,
   "metadata": {
    "tags": []
   },
   "outputs": [],
   "source": [
    "# Crear un mapeo basado en el nombre de la cabina hacia la columna de factor de carga en df_load_factor\n",
    "cabin_to_load_factor_column = {\n",
    "    'Economy': 'load_factor_economy',\n",
    "    'Business': 'load_factor_business',\n",
    "    'Premium Economy': 'load_factor_premium_ec'\n",
    "}\n",
    "\n",
    "# Asumiendo que el DataFrame df_nps_tkt ya tiene la columna 'cabin_in_surveyed_flight'\n",
    "\n",
    "# Paso 3: Realizar una fusión condicional\n",
    "\n",
    "# Copia el DataFrame original para mantener la integridad de los datos\n",
    "df_load_factor_renamed = df_load_factor.copy()\n",
    "\n",
    "# Renombra las columnas manualmente\n",
    "df_load_factor_renamed.columns = ['date_flight_local' if x=='flight_date_local' else \n",
    "                                  'operating_airline_code' if x=='operating_carrier' else\n",
    "                                  'surveyed_flight_number' if x=='op_flight_num' else\n",
    "                                  x for x in df_load_factor_renamed.columns]\n",
    "\n",
    "# Continúa con el proceso de fusión\n",
    "df_merged = pd.merge(df_nps_tkt, df_load_factor_renamed, \n",
    "                     how='left', \n",
    "                     on=['date_flight_local', 'operating_airline_code', 'surveyed_flight_number', 'haul'])\n",
    "\n",
    "# Asigna el factor de carga correcto\n",
    "df_merged['load_factor'] = df_merged.apply(lambda row: row[cabin_to_load_factor_column[row['cabin_in_surveyed_flight']]], axis=1)\n",
    "\n",
    "# Resultado\n",
    "df_final = df_merged[['date_flight_local', 'operating_airline_code', 'surveyed_flight_number', 'haul', 'cabin_in_surveyed_flight', 'load_factor']]\n",
    "\n"
   ]
  },
  {
   "cell_type": "code",
   "execution_count": 30,
   "metadata": {
    "tags": []
   },
   "outputs": [
    {
     "data": {
      "text/plain": [
       "Index(['respondent_id', 'sample_id', 'surveyed_flight_number',\n",
       "       'date_flight_local', 'scheduled_departure_time_local',\n",
       "       'scheduled_arrival_time_local', 'tier_level', 'language_code',\n",
       "       'aircraft_registration_number', 'seat_no',\n",
       "       ...\n",
       "       'pax_premium_ec', 'capacity_economy', 'pax_economy', 'departure_hour',\n",
       "       'arrival_hour', 'aircraft_registration_code_actual',\n",
       "       'load_factor_business', 'load_factor_premium_ec', 'load_factor_economy',\n",
       "       'load_factor'],\n",
       "      dtype='object', length=603)"
      ]
     },
     "execution_count": 30,
     "metadata": {},
     "output_type": "execute_result"
    }
   ],
   "source": [
    "df_merged.columns"
   ]
  },
  {
   "cell_type": "code",
   "execution_count": 39,
   "metadata": {
    "tags": []
   },
   "outputs": [],
   "source": [
    "df_nps_tkt = df_merged.copy()"
   ]
  },
  {
   "cell_type": "markdown",
   "metadata": {},
   "source": [
    "#### Create flag promoter and detractor"
   ]
  },
  {
   "cell_type": "code",
   "execution_count": 40,
   "metadata": {},
   "outputs": [],
   "source": [
    "df_nps_tkt[\"promoter_binary\"] = df_nps_tkt[\"nps_category\"].apply(lambda x: 1 if x == \"Promoter\" else 0)\n",
    "df_nps_tkt[\"detractor_binary\"] = df_nps_tkt[\"nps_category\"].apply(lambda x: 1 if x == \"Detractor\" else 0)\n",
    "df_nps_tkt[\"label_multiclass\"] = df_nps_tkt[\"nps_category\"].apply(lambda x: 1 if x == \"Promoter\" else (-1 if x == 'Detractor' else 0))"
   ]
  },
  {
   "cell_type": "markdown",
   "metadata": {},
   "source": [
    "#### Create some features"
   ]
  },
  {
   "cell_type": "code",
   "execution_count": 41,
   "metadata": {},
   "outputs": [],
   "source": [
    "def wifi_var(df):\n",
    "\n",
    "    df[\"wifi_not_working\"] = df[\"cla_600_wifi_t_f\"].apply(lambda x: 1 if x in [\"Could not get it to work\", \"No - I could not get it to work\"] else 0)\n",
    "    df[\"wifi_used_success\"] = df[\"cla_600_wifi_t_f\"].apply(lambda x: 1 if x in [\"Yes\", \"Yes, but not enough\"] else 0)\n",
    "    \n",
    "    return df\n",
    "\n",
    "def group_journey_reason(df):\n",
    "    \n",
    "    df[\"tvl_journey_reason\"] = df[\"tvl_journey_reason\"].apply(lambda x: 1 if x in [\"Business\", \"Business/work\"] else 0)\n",
    "    \n",
    "    return df\n",
    "\n",
    "def feature_covid_indicator(df):\n",
    "    \n",
    "    df.loc[df[\"date_flight_local\"] <= \"2020-03-13\", \"indicator_covid\"] = 0\n",
    "    df.loc[df[\"date_flight_local\"] > \"2020-03-13\", \"indicator_covid\"] = 1\n",
    "    \n",
    "    return df\n",
    "\n",
    "def group_residence_country(df):\n",
    "    \n",
    "    ESP = [\"ES\"]\n",
    "    \n",
    "    EUR = [\"AT\", \"BE\", \"CH\", \"DE\", \"FR\", \"GB\", \"UX\", \"GR\", \"IL\", \"IT\", \"MA\", \"NL\", \"PT\", \"RU\", \"SE\", \"CZ\", \"DZ\", \n",
    "                 \"IE\", \"SI\", \"AD\", \"DK\", \"FI\", \"HR\", \"HU\", \"LU\", \"PL\", \"RO\", \"SK\", \"MC\", \"EE\", \"NO\", \"SN\"]    \n",
    "    \n",
    "    AM_NOR = [\"CA\", \"MX\", \"PR\", \"US\"]\n",
    "\n",
    "    LATAM = [\"CR\", \"CU\", \"DO\", \"GT\", \"NI\", \"PA\", \"SV\", \"VE\", \"HN\", \"AR\", \"BR\", \"CL\", \"CO\", \"EC\", \"PE\", \"UY\", \"BO\"]\n",
    "    \n",
    "    df.loc[df[\"res100_country_code_survey\"].isin(ESP), \"country_aggr\"] = \"ESP\"\n",
    "    df.loc[df[\"res100_country_code_survey\"].isin(EUR), \"country_aggr\"] = \"EUR\"\n",
    "    df.loc[df[\"res100_country_code_survey\"].isin(AM_NOR), \"country_aggr\"] = \"AM_NOR\"\n",
    "    df.loc[df[\"res100_country_code_survey\"].isin(LATAM), \"country_aggr\"] = \"LATAM\"\n",
    "    \n",
    "    df[\"country_aggr\"] = df[\"country_aggr\"].fillna(\"Others\")\n",
    "    return df\n",
    "\n",
    "\n",
    "def group_residence_country_custom(df):\n",
    "    \n",
    "    regions = {'EUROPA': ['Albania', 'AL','Andorra','AD','Armenia','AM','Austria','AT','Azerbaijan','Belarus','BY','Belgium','BE','Bosnia and Herzegovina','BA','Bulgaria','BG','Croatia','HR',\n",
    "      'Cyprus','CY','Czech Republic','CZ','Denmark','DK','Estonia','EE','Faeroe Islands','FO','Finland','FI','France','FR','Georgia','GE','Germany','DE','Gibraltar','GI','Greece','GR','Greenland',\n",
    "      'GL','Hungary','HU','Iceland','IS','Ireland','IE','Italy','IT','Latvia','LV','Lebanon','LB','Liechtenstein','LI','Lithuania','LT','Luxembourg','LU','Malta','MT','Moldova','MD','Monaco',\n",
    "      'ME','Netherlands','NL','MK','Northern Ireland','Norway','NO','Poland','PL','Portugal','PT','MC','Romania','RO','Russia','RU','San Marino','SM','RS','Slovakia','SK','Slovenia','SI','Sweden',\n",
    "      'SE','Switzerland','CH','Turkey','TR','UK (excl NI)','Ukraine','UA','GB','Vatican City','Yugoslavia'],\n",
    "     'AFRICA': ['Algeria','DZ','Angola','AO','Botswana','Burkina Faso','BF','Burundi','Cameroon','CM','Cape Verde','CV','Central African Republic','Comoros','Congo',\"Côte d'Ivoire\",'Djibouti','DJ',\n",
    "      'Egypt','EG','Equatorial Guinea','GQ','Eritrea','ER','SZ','Ethiopia','ET','French Southern Territories','Gabon','GA','GM','Ghana','GH','Guinea','Guinea-Bissau','GW','CI','Jordan','JO','Kenya',\n",
    "      'KE','Liberia','LR','Libya','LY','Macedonia','Madagascar','MG','Malawi','MW','Mali','ML','Mauritania','MR','Mauritius','MU','Mayotte','YT','Morocco','MA','Mozambique','MZ','Namibia','Niger',\n",
    "      'Nigeria','NG','CG','RE','Réunion','Rwanda','São Tomé and Príncipe','Senegal','SN','Seychelles','SC','Sierra Leone','SO','South Africa','ZA','SD','Sudan','Swaziland','Tanzania','TZ','The Gambia',\n",
    "      'Togo','Trinidad and Tobago','TT','Tunisia','TN','Uganda','UG','Western Sahara''Zambia','Zimbabwe','ZW','Somalia','Benin'],\n",
    "     'ASIA': ['Afghanistan','AF','Australia','AU','Bangladesh','Bhutan','BN','Cambodia','KH','China','CN','Cocos (Keeling) Islands','Cook Islands','East Timor','Fiji','FJ','French Polynesia','PF',\n",
    "      'GU','Hong Kong','HK','India','IN','Indonesia','ID','Japan','JP','MO','Macau','Malaysia','MY','Maldives','MV','Micronesia','MN','Myanmar','MM','Nepal','NP','New Caledonia','NC','New Zealand',\n",
    "      'NZ','Northern Marianas','Papua New Guinea','PG','Philippines','PH','Singapore','SG','Solomon Islands','South Korea','KR','Sri Lanka','LK','Taiwan','TW','Tajikistan','Thailand','TH','Turkmenistan',\n",
    "      'TM','Uzbekistan','UZ','VU','Vanuatu','Vietnam','VN','Wallis and Futuna','Brunei','Guam'],\n",
    "     'AMERICA CENTRO': ['American Samoa','Anguilla','Antigua and Barbuda','Aruba','AW','BS','Barbados','Belize','BZ','British Virgin Islands','VG','Cayman Islands','KY','Colombia','CO','Costa Rica','CR',\n",
    "      'Cuba','CU','Dominica','DM','Dominican Republic','DO','El Salvador','SV','Falkland Islands','FK','Grenada','GD','Guadeloupe','GP','Guatemala','GT','Haiti','HT','Honduras','HN','Jamaica','JM',\n",
    "      'Martinique','MQ','Mexico','MX','Montserrat','MS','Netherlands Antilles','Panama','PA','Puerto Rico','PR','Saint Helena','KN','Saint Lucia','Saint Vincent and the Grenadines','The Bahamas',\n",
    "      'Turks and Caicos Islands','TC','US Virgin Islands','VI','Saint Kitts and Nevis'],\n",
    "     'AMERICA SUR': ['Argentina','AR','Bolivia','BO','Brazil','BR','Chile','CL','Ecuador','EC','French Guiana','GF','Guyana','GY','Nicaragua','NI','Paraguay','PY','Peru','PE','Suriname','Uruguay','UY',\n",
    "      'Venezuela','VE'],\n",
    "     'ORIENTE MEDIO': ['Bahrain','BH','Bermuda','BM','Iran','IR','Iraq','IQ','Israel','IL','Kazakhstan','KZ','Kuwait','KW','Kyrgyzstan','KG','Oman','OM','Pakistan','PK','Qatar','QA','Saudi Arabia',\n",
    "      'SA','Syria','United Arab Emirates','AE','Yemen'],\n",
    "     'AMERICA NORTE': ['Canada', 'CA', 'United States', 'US'],\n",
    "     'ESPAÑA': ['Spain', 'ES']}\n",
    "    \n",
    "    # Defining regions with corresponding country codes directly within the function\n",
    "    EUROPA = regions[\"EUROPA\"]\n",
    "    AFRICA = regions[\"AFRICA\"]\n",
    "    ASIA = regions[\"ASIA\"]\n",
    "    AMERICA_CENTRO = regions[\"AMERICA CENTRO\"]\n",
    "    AMERICA_SUR = regions[\"AMERICA SUR\"]\n",
    "    ORIENTE_MEDIO = regions[\"ORIENTE MEDIO\"]\n",
    "    AMERICA_NORTE = regions[\"AMERICA NORTE\"]\n",
    "    ESPAÑA = regions[\"ESPAÑA\"]\n",
    "    \n",
    "    # Assigning regions to 'country_aggr' based on the country codes\n",
    "    df.loc[df[\"res100_country_code_survey\"].isin(ESPAÑA), \"country_aggr\"] = \"ESPAÑA\"\n",
    "    df.loc[df[\"res100_country_code_survey\"].isin(EUROPA), \"country_aggr\"] = \"EUROPA\"\n",
    "    df.loc[df[\"res100_country_code_survey\"].isin(AFRICA), \"country_aggr\"] = \"AFRICA\"\n",
    "    df.loc[df[\"res100_country_code_survey\"].isin(ASIA), \"country_aggr\"] = \"ASIA\"\n",
    "    df.loc[df[\"res100_country_code_survey\"].isin(AMERICA_CENTRO), \"country_aggr\"] = \"AMERICA CENTRO\"\n",
    "    df.loc[df[\"res100_country_code_survey\"].isin(AMERICA_SUR), \"country_aggr\"] = \"AMERICA SUR\"\n",
    "    df.loc[df[\"res100_country_code_survey\"].isin(ORIENTE_MEDIO), \"country_aggr\"] = \"ORIENTE MEDIO\"\n",
    "    df.loc[df[\"res100_country_code_survey\"].isin(AMERICA_NORTE), \"country_aggr\"] = \"AMERICA NORTE\"\n",
    "    \n",
    "    # Defaulting to 'Others' for countries not listed\n",
    "    df[\"country_aggr\"] = df[\"country_aggr\"].fillna(\"Others\")\n",
    "    \n",
    "    return df\n",
    "\n",
    "def issues_binary(df, dict_touchpoints):\n",
    "    all_unique_issues = [i for i in dict_touchpoints[\"issue_type_2\"].unique()]\n",
    "    for issue in all_unique_issues:\n",
    "        df[issue] = df[issue].apply(lambda x: 0 if pd.isna(x) else 1)\n",
    "\n",
    "    for touchpoint in dict_touchpoints[\"associated_touchpoint\"].unique():\n",
    "        related_issues = [i for i in dict_touchpoints.loc[dict_touchpoints[\"associated_touchpoint\"] == touchpoint][\"issue_type_2\"]]\n",
    "        new_feature = \"issues_{}\".format(touchpoint)\n",
    "        df[new_feature] = df[related_issues].sum(axis = 1)\n",
    "        df[new_feature] = df[new_feature].apply(lambda x: 1 if x >= 1 else 0)\n",
    "    return df"
   ]
  },
  {
   "cell_type": "code",
   "execution_count": 42,
   "metadata": {},
   "outputs": [],
   "source": [
    "df_nps_tkt = wifi_var(df_nps_tkt)\n",
    "df_nps_tkt = group_journey_reason(df_nps_tkt)\n",
    "df_nps_tkt = feature_covid_indicator(df_nps_tkt)\n",
    "df_nps_tkt = group_residence_country_custom(df_nps_tkt)\n",
    "# df_nps_tkt = issues_binary(df_nps_tkt, df_touchpoints)"
   ]
  },
  {
   "cell_type": "code",
   "execution_count": null,
   "metadata": {},
   "outputs": [],
   "source": []
  },
  {
   "cell_type": "code",
   "execution_count": null,
   "metadata": {},
   "outputs": [],
   "source": []
  },
  {
   "cell_type": "markdown",
   "metadata": {},
   "source": [
    "#### Select column"
   ]
  },
  {
   "cell_type": "code",
   "execution_count": 35,
   "metadata": {
    "tags": []
   },
   "outputs": [
    {
     "data": {
      "text/html": [
       "<div>\n",
       "<style scoped>\n",
       "    .dataframe tbody tr th:only-of-type {\n",
       "        vertical-align: middle;\n",
       "    }\n",
       "\n",
       "    .dataframe tbody tr th {\n",
       "        vertical-align: top;\n",
       "    }\n",
       "\n",
       "    .dataframe thead th {\n",
       "        text-align: right;\n",
       "    }\n",
       "</style>\n",
       "<table border=\"1\" class=\"dataframe\">\n",
       "  <thead>\n",
       "    <tr style=\"text-align: right;\">\n",
       "      <th></th>\n",
       "      <th>country_aggr</th>\n",
       "    </tr>\n",
       "  </thead>\n",
       "  <tbody>\n",
       "    <tr>\n",
       "      <th>0</th>\n",
       "      <td>ASIA</td>\n",
       "    </tr>\n",
       "    <tr>\n",
       "      <th>1</th>\n",
       "      <td>ESPAÑA</td>\n",
       "    </tr>\n",
       "    <tr>\n",
       "      <th>2</th>\n",
       "      <td>ESPAÑA</td>\n",
       "    </tr>\n",
       "    <tr>\n",
       "      <th>3</th>\n",
       "      <td>Others</td>\n",
       "    </tr>\n",
       "    <tr>\n",
       "      <th>4</th>\n",
       "      <td>EUROPA</td>\n",
       "    </tr>\n",
       "    <tr>\n",
       "      <th>...</th>\n",
       "      <td>...</td>\n",
       "    </tr>\n",
       "    <tr>\n",
       "      <th>784910</th>\n",
       "      <td>ESPAÑA</td>\n",
       "    </tr>\n",
       "    <tr>\n",
       "      <th>784911</th>\n",
       "      <td>EUROPA</td>\n",
       "    </tr>\n",
       "    <tr>\n",
       "      <th>784912</th>\n",
       "      <td>EUROPA</td>\n",
       "    </tr>\n",
       "    <tr>\n",
       "      <th>784913</th>\n",
       "      <td>Others</td>\n",
       "    </tr>\n",
       "    <tr>\n",
       "      <th>784914</th>\n",
       "      <td>ESPAÑA</td>\n",
       "    </tr>\n",
       "  </tbody>\n",
       "</table>\n",
       "<p>784915 rows × 1 columns</p>\n",
       "</div>"
      ],
      "text/plain": [
       "       country_aggr\n",
       "0              ASIA\n",
       "1            ESPAÑA\n",
       "2            ESPAÑA\n",
       "3            Others\n",
       "4            EUROPA\n",
       "...             ...\n",
       "784910       ESPAÑA\n",
       "784911       EUROPA\n",
       "784912       EUROPA\n",
       "784913       Others\n",
       "784914       ESPAÑA\n",
       "\n",
       "[784915 rows x 1 columns]"
      ]
     },
     "execution_count": 35,
     "metadata": {},
     "output_type": "execute_result"
    }
   ],
   "source": [
    "df_nps_tkt[['country_aggr']]"
   ]
  },
  {
   "cell_type": "code",
   "execution_count": 36,
   "metadata": {
    "tags": []
   },
   "outputs": [
    {
     "data": {
      "image/png": "[encoded data removed]",
      "text/plain": [
       "<Figure size 1000x600 with 1 Axes>"
      ]
     },
     "metadata": {},
     "output_type": "display_data"
    }
   ],
   "source": [
    "# Contamos las ocurrencias de cada categoría\n",
    "category_counts = df_nps_tkt['country_aggr'].value_counts()\n",
    "\n",
    "# Creamos el histograma\n",
    "plt.figure(figsize=(10, 6))  # Tamaño del gráfico para mayor claridad\n",
    "plt.bar(category_counts.index, category_counts.values, color='skyblue')  # Bar plot\n",
    "plt.title('Distribución de Categorías en country_aggr')  # Título del gráfico\n",
    "plt.xlabel('Categoría')  # Etiqueta para el eje X\n",
    "plt.ylabel('Frecuencia')  # Etiqueta para el eje Y\n",
    "plt.xticks(rotation=45)  # Rotamos las etiquetas del eje X para mejor legibilidad\n",
    "plt.grid(axis='y', linestyle='--', alpha=0.7)  # Agregamos una cuadrícula en el eje Y para referencia\n",
    "plt.show()\n"
   ]
  },
  {
   "cell_type": "code",
   "execution_count": 44,
   "metadata": {},
   "outputs": [],
   "source": [
    "columns_to_select = ['respondent_id','cabin_in_surveyed_flight', 'haul','date_flight_local'] + touchpoints + ['otp15_takeoff', 'delay_departure','ticket_price','load_factor','country_aggr'] + labels + labels_multi\n",
    "# + [col for col in df_nps_tkt_select.columns if 'issues_' in col]\n",
    "df_nps_tkt_selected = df_nps_tkt[columns_to_select]"
   ]
  },
  {
   "cell_type": "code",
   "execution_count": null,
   "metadata": {
    "tags": []
   },
   "outputs": [],
   "source": [
    "# One-hot encoding\n",
    "# df_nps_tkt_selected = pd.get_dummies(df_nps_tkt_selected, columns=['country_aggr'])"
   ]
  },
  {
   "cell_type": "code",
   "execution_count": 45,
   "metadata": {
    "tags": []
   },
   "outputs": [],
   "source": [
    "# Target encoding\n",
    "# Calcula el promedio de la variable objetivo para cada categoría en 'country_aggr'\n",
    "mean_target_per_category = df_nps_tkt_selected.groupby('country_aggr')['promoter_binary'].mean() - df_nps_tkt_selected.groupby('country_aggr')['detractor_binary'].mean()\n",
    "\n",
    "# Mapea estos promedios a tu columna categórica original\n",
    "df_nps_tkt_selected['country_aggr'] = df_nps_tkt_selected['country_aggr'].map(mean_target_per_category)\n",
    "\n",
    "# Ahora 'country_aggr_encoded' contiene los valores de target encoding para la columna 'country_aggr'\n"
   ]
  },
  {
   "cell_type": "code",
   "execution_count": null,
   "metadata": {
    "tags": []
   },
   "outputs": [],
   "source": [
    "mean_target_per_category"
   ]
  },
  {
   "cell_type": "code",
   "execution_count": null,
   "metadata": {
    "tags": []
   },
   "outputs": [],
   "source": [
    "df_nps_tkt_selected['country_aggr']"
   ]
  },
  {
   "cell_type": "code",
   "execution_count": null,
   "metadata": {
    "tags": []
   },
   "outputs": [],
   "source": [
    "\n",
    "\n",
    "# Calculamos la matriz de correlación para las columnas seleccionadas\n",
    "correlation_matrix = df_nps_tkt_selected.corr()\n",
    "\n",
    "# Ajustar el tamaño de la figura para una visualización adecuada\n",
    "plt.figure(figsize=(20,16))\n",
    "\n",
    "# Generar el mapa de calor para la matriz de correlación\n",
    "sns.heatmap(correlation_matrix, annot=True, cmap='coolwarm', fmt=\".2f\", linewidths=.5, cbar_kws={\"shrink\": .5})\n",
    "\n",
    "# Ajustar los parámetros de visualización para mejorar la legibilidad\n",
    "plt.xticks(rotation=45, ha=\"right\")\n",
    "plt.yticks(rotation=0)\n",
    "plt.title('Matriz de Correlación')\n",
    "plt.show()"
   ]
  },
  {
   "cell_type": "code",
   "execution_count": null,
   "metadata": {
    "tags": []
   },
   "outputs": [],
   "source": [
    "def calculate_nps(promoters, detractors, passives):\n",
    "    total_responses = promoters + detractors + passives\n",
    "    nps = 100 * (promoters - detractors) / total_responses\n",
    "    return nps\n",
    "\n",
    "# Asumiendo que df_nps_tkt ya está definido y la columna 'date_flight_local' es de tipo datetime\n",
    "# Si no es así, convierte 'date_flight_local' a datetime\n",
    "df_nps_tkt['date_flight_local'] = pd.to_datetime(df_nps_tkt['date_flight_local'])\n",
    "\n",
    "# Extraer año y mes para agrupación\n",
    "df_nps_tkt['year_month'] = df_nps_tkt['date_flight_local'].dt.to_period('M')\n",
    "\n",
    "# Definir promotores, pasivos y detractores\n",
    "df_nps_tkt['category'] = pd.cut(df_nps_tkt['nps_100'],\n",
    "                                bins=[-1, 6, 8, 10],\n",
    "                                labels=['detractors', 'passives', 'promoters'])\n",
    "\n",
    "# Agrupar por año y mes, y luego calcular NPS\n",
    "nps_monthly = df_nps_tkt.groupby('year_month')['category'].value_counts().unstack(fill_value=0).apply(\n",
    "    lambda row: calculate_nps(row['promoters'], row['detractors'], row['passives']), axis=1\n",
    ")\n",
    "\n",
    "# Convertir 'year_month' de Period a datetime para cumplir con el requisito de 'date_flight_local'\n",
    "nps_monthly_df = nps_monthly.reset_index().rename(columns={0: 'NPS'})\n",
    "nps_monthly_df['date_flight_local'] = nps_monthly_df['year_month'].apply(lambda x: x.to_timestamp())\n",
    "\n",
    "# Seleccionar solo las columnas requeridas\n",
    "nps_monthly_df = nps_monthly_df[['NPS', 'date_flight_local']].copy()\n",
    "\n",
    "nps_monthly_df\n",
    "\n"
   ]
  },
  {
   "cell_type": "markdown",
   "metadata": {},
   "source": [
    "### Input ticket_price"
   ]
  },
  {
   "cell_type": "code",
   "execution_count": 46,
   "metadata": {
    "tags": []
   },
   "outputs": [],
   "source": [
    "df_nps_tkt = df_nps_tkt_selected.copy()"
   ]
  },
  {
   "cell_type": "code",
   "execution_count": 47,
   "metadata": {
    "tags": []
   },
   "outputs": [],
   "source": [
    "features_dummy = ['ticket_price', 'load_factor', 'otp15_takeoff'] + ['bkg_200_journey_preparation', 'pfl_100_checkin', \n",
    "                  'pfl_200_security', 'pfl_300_lounge', 'pfl_500_boarding', 'ifl_300_cabin', \n",
    "                  'ifl_200_flight_crew_annoucements', 'ifl_600_wifi', 'ifl_500_ife', 'ifl_400_food_drink', \n",
    "                  'ifl_100_cabin_crew', 'arr_100_arrivals', 'con_100_connections', \n",
    "                  'loy_200_loyalty_programme', 'img_310_ease_contact_phone']\n",
    "\n",
    "labels = ['promoter_binary', 'detractor_binary']\n",
    "\n",
    "df_nps_tkt = df_nps_tkt[['respondent_id', 'cabin_in_surveyed_flight', 'haul', 'date_flight_local']+features_dummy+labels]"
   ]
  },
  {
   "cell_type": "code",
   "execution_count": null,
   "metadata": {
    "tags": []
   },
   "outputs": [],
   "source": [
    "# Ensure date_flight_local is a datetime type if not already\n",
    "df_nps_tkt['date_flight_local'] = pd.to_datetime(df_nps_tkt['date_flight_local'])\n",
    "\n",
    "# Extract month and year from date_flight_local and create new columns\n",
    "df_nps_tkt['month'] = df_nps_tkt['date_flight_local'].dt.month\n",
    "df_nps_tkt['year'] = df_nps_tkt['date_flight_local'].dt.year\n"
   ]
  },
  {
   "cell_type": "code",
   "execution_count": null,
   "metadata": {
    "tags": []
   },
   "outputs": [],
   "source": [
    "df_nps_tkt['date_flight_local'].min()"
   ]
  },
  {
   "cell_type": "code",
   "execution_count": 48,
   "metadata": {
    "tags": []
   },
   "outputs": [
    {
     "name": "stdout",
     "output_type": "stream",
     "text": [
      "0         2023\n",
      "1         2023\n",
      "2         2019\n",
      "3         2019\n",
      "4         2017\n",
      "          ... \n",
      "784910    2024\n",
      "784911    2024\n",
      "784912    2024\n",
      "784913    2024\n",
      "784914    2024\n",
      "Name: year, Length: 784915, dtype: int32\n"
     ]
    },
    {
     "data": {
      "image/png": "[encoded data removed]",
      "text/plain": [
       "<Figure size 1000x500 with 1 Axes>"
      ]
     },
     "metadata": {},
     "output_type": "display_data"
    },
    {
     "data": {
      "image/png": "[encoded data removed]",
      "text/plain": [
       "<Figure size 1000x500 with 1 Axes>"
      ]
     },
     "metadata": {},
     "output_type": "display_data"
    },
    {
     "data": {
      "image/png": "[encoded data removed]",
      "text/plain": [
       "<Figure size 1000x500 with 1 Axes>"
      ]
     },
     "metadata": {},
     "output_type": "display_data"
    },
    {
     "data": {
      "image/png": "[encoded data removed]",
      "text/plain": [
       "<Figure size 1000x500 with 1 Axes>"
      ]
     },
     "metadata": {},
     "output_type": "display_data"
    },
    {
     "data": {
      "image/png": "[encoded data removed]",
      "text/plain": [
       "<Figure size 1000x500 with 1 Axes>"
      ]
     },
     "metadata": {},
     "output_type": "display_data"
    },
    {
     "data": {
      "image/png": "[encoded data removed]",
      "text/plain": [
       "<Figure size 1000x500 with 1 Axes>"
      ]
     },
     "metadata": {},
     "output_type": "display_data"
    },
    {
     "data": {
      "image/png": "[encoded data removed]",
      "text/plain": [
       "<Figure size 1000x500 with 1 Axes>"
      ]
     },
     "metadata": {},
     "output_type": "display_data"
    },
    {
     "data": {
      "image/png": "[encoded data removed]",
      "text/plain": [
       "<Figure size 1000x500 with 1 Axes>"
      ]
     },
     "metadata": {},
     "output_type": "display_data"
    },
    {
     "data": {
      "image/png": "[encoded data removed]",
      "text/plain": [
       "<Figure size 1000x500 with 1 Axes>"
      ]
     },
     "metadata": {},
     "output_type": "display_data"
    },
    {
     "data": {
      "image/png": "[encoded data removed]",
      "text/plain": [
       "<Figure size 1000x500 with 1 Axes>"
      ]
     },
     "metadata": {},
     "output_type": "display_data"
    },
    {
     "data": {
      "image/png": "[encoded data removed]",
      "text/plain": [
       "<Figure size 1000x500 with 1 Axes>"
      ]
     },
     "metadata": {},
     "output_type": "display_data"
    },
    {
     "data": {
      "image/png": "[encoded data removed]",
      "text/plain": [
       "<Figure size 1000x500 with 1 Axes>"
      ]
     },
     "metadata": {},
     "output_type": "display_data"
    }
   ],
   "source": [
    "# Assuming df_nps_tkt is your DataFrame and it's already loaded\n",
    "# Convert 'date_flight_local' to datetime and extract 'month' and 'year' if not already done\n",
    "df_nps_tkt['date_flight_local'] = pd.to_datetime(df_nps_tkt['date_flight_local'])\n",
    "df_nps_tkt['month'] = df_nps_tkt['date_flight_local'].dt.month\n",
    "df_nps_tkt['year'] = df_nps_tkt['date_flight_local'].dt.year\n",
    "print(df_nps_tkt['year'])\n",
    "# Identify categorical and numerical columns; make sure 'month' and 'year' are not in these lists\n",
    "categorical_features = df_nps_tkt.select_dtypes(include=['object', 'bool']).columns.tolist()\n",
    "numerical_features = df_nps_tkt.select_dtypes(include=['int32', 'int64', 'float64']).columns.drop(['ticket_price', 'month', 'year']).tolist()\n",
    "\n",
    "# Define the preprocessing for numerical and categorical data\n",
    "preprocessor = ColumnTransformer(\n",
    "    transformers=[\n",
    "        ('num', SimpleImputer(strategy='median'), numerical_features),\n",
    "        ('cat', OneHotEncoder(handle_unknown='ignore'), categorical_features),\n",
    "    ]\n",
    ")\n",
    "\n",
    "# Define the model pipeline\n",
    "pipeline = make_pipeline(\n",
    "    preprocessor,\n",
    "    GradientBoostingRegressor(random_state=42)\n",
    ")\n",
    "\n",
    "# Loop over each month to train a model and impute missing values\n",
    "for month in sorted(df_nps_tkt['month'].unique()):\n",
    "    # Filter the data for the specific month\n",
    "    df_month = df_nps_tkt[df_nps_tkt['month'] == month]\n",
    "    \n",
    "    # Split data into features and target\n",
    "    X = df_month.drop(columns=['ticket_price', 'date_flight_local', 'month', 'year'])\n",
    "    y = df_month['ticket_price']\n",
    "    \n",
    "    # Further split your data into training and missing data (for imputation)\n",
    "    X_train = X.loc[y.notna()]\n",
    "    y_train = y.loc[y.notna()]\n",
    "    \n",
    "    if len(X_train) > 0:\n",
    "        # Train the model\n",
    "        pipeline.fit(X_train, y_train)\n",
    "        \n",
    "        # Identify indices where ticket_price is NaN for imputation\n",
    "        idx_missing = y[y.isna()].index\n",
    "        \n",
    "        # Predict missing ticket_price values\n",
    "        X_missing = X.loc[idx_missing]\n",
    "        if len(X_missing) > 0:\n",
    "            imputed_values = pipeline.predict(X_missing)\n",
    "            \n",
    "            # Fill in the missing values in the original DataFrame\n",
    "            df_nps_tkt.loc[idx_missing, 'ticket_price'] = imputed_values\n",
    "\n",
    "            # Verification: Distribution comparison\n",
    "            plt.figure(figsize=(10, 5))\n",
    "            plt.hist(y_train, bins=30, alpha=0.5, label='Known Values')\n",
    "            plt.hist(imputed_values, bins=30, alpha=0.5, label='Imputed Values')\n",
    "            plt.title(f'Distribution of Ticket Prices for Month {month}')\n",
    "            plt.xlabel('Ticket Price')\n",
    "            plt.ylabel('Frequency')\n",
    "            plt.legend()\n",
    "            plt.show()\n"
   ]
  },
  {
   "cell_type": "code",
   "execution_count": null,
   "metadata": {},
   "outputs": [],
   "source": []
  },
  {
   "cell_type": "markdown",
   "metadata": {
    "tags": []
   },
   "source": [
    "# Training"
   ]
  },
  {
   "cell_type": "code",
   "execution_count": 49,
   "metadata": {},
   "outputs": [],
   "source": [
    "from sklearn.metrics import confusion_matrix, accuracy_score, precision_score, recall_score, f1_score, log_loss\n",
    "\n",
    "def calculate_classification_scores(y_true, y_pred, y_prob):\n",
    "    \"\"\" Use classification measures to evaluate the model.\"\"\"\n",
    "    \n",
    "    sample_size = len(y_true)\n",
    "    pct_target = sum(y_true) / sample_size\n",
    "    pct_pred = sum(y_pred) / sample_size\n",
    "    cm = confusion_matrix(y_true, y_pred)\n",
    "    accuracy = accuracy_score(y_true, y_pred)\n",
    "    precision = precision_score(y_true, y_pred, average='weighted', zero_division=0)\n",
    "    recall = recall_score(y_true, y_pred, average='weighted', zero_division=0)\n",
    "    f1 = f1_score(y_true, y_pred, average='weighted', zero_division=0)\n",
    "\n",
    "    # Manejo especial para log_loss cuando y_true contiene solo una clase\n",
    "    if len(set(y_true)) > 1:\n",
    "        loss = log_loss(y_true, y_prob)\n",
    "    else:\n",
    "        loss = None  # O manejar de otra manera que tenga sentido para tu análisis\n",
    "    \n",
    "    score_dict = {\n",
    "        \"sample size\": sample_size,\n",
    "        \"len_y_pred\": len(y_pred),\n",
    "        \"len_y_prob\": len(y_prob),\n",
    "        \"pct_target\": pct_target, \n",
    "        \"pct_pred\": pct_pred,\n",
    "        \"confusion_matrix\": cm, \n",
    "        \"accuracy\": accuracy, \n",
    "        \"precision\": precision, \n",
    "        \"recall\": recall, \n",
    "        \"f1\": f1,\n",
    "        \"log_loss\": loss\n",
    "    }\n",
    "    \n",
    "    return score_dict\n",
    "\n",
    "\n",
    "from sklearn.model_selection import train_test_split, KFold\n",
    "from catboost import CatBoostClassifier, Pool\n",
    "import pandas as pd\n",
    "\n",
    "def train_test_predict_cv_ctb(df, features, labels, n_splits=5):\n",
    "    result_dict = {}\n",
    "    result_dict_ch = {}\n",
    "    \n",
    "    # Convertir 'date_flight_local' a datetime si no lo es\n",
    "    df['date_flight_local'] = pd.to_datetime(df['date_flight_local'])\n",
    "    \n",
    "    # Si labels es una sola etiqueta, conviértela en una lista para un manejo uniforme\n",
    "    labels = [labels] if isinstance(labels, str) else labels\n",
    "\n",
    "    # Construyendo la lista de todas las columnas necesarias\n",
    "    all_features = features + ['cabin_in_surveyed_flight', 'haul', 'date_flight_local'] + labels\n",
    "\n",
    "    # Dividiendo el dataset\n",
    "    train_df, test_df = train_test_split(\n",
    "        df,\n",
    "        stratify=df[\"date_flight_local\"].dt.year,\n",
    "        test_size=0.2,\n",
    "        random_state=1\n",
    "    )\n",
    "    \n",
    "    test_df=df[(df['date_flight_local'].dt.year==2024) & (df['date_flight_local'].dt.month==1)] # Para comprobar metricas d eun mes particular\n",
    "\n",
    "    # Preparación para validación cruzada y entrenamiento del modelo\n",
    "    kf = KFold(n_splits=n_splits, shuffle=True, random_state=1)\n",
    "    cat_features = ['otp15_takeoff']  # Ajusta según tus características categóricas\n",
    "    \n",
    "    for target_label in labels:\n",
    "        clf = CatBoostClassifier(cat_features=cat_features, random_seed=0, verbose=0)\n",
    "        \n",
    "        cv_scores = []\n",
    "        for train_index, val_index in kf.split(train_df):\n",
    "            # Aquí seleccionamos solo las columnas de características para el entrenamiento\n",
    "            X_train_fold = train_df.iloc[train_index][features]\n",
    "            X_val_fold = train_df.iloc[val_index][features]\n",
    "            y_train_fold = train_df.iloc[train_index][target_label]\n",
    "            y_val_fold = train_df.iloc[val_index][target_label]\n",
    "\n",
    "            train_pool = Pool(X_train_fold, y_train_fold, cat_features=cat_features)\n",
    "            val_pool = Pool(X_val_fold, y_val_fold, cat_features=cat_features)\n",
    "\n",
    "            clf.fit(train_pool, eval_set=val_pool, early_stopping_rounds=10, verbose=False)\n",
    "            cv_scores.append(clf.get_best_score())\n",
    "\n",
    "        # Realizar predicciones y calcular métricas para los conjuntos completos\n",
    "        train_pred = clf.predict(train_df[features])\n",
    "        train_pred_prob = clf.predict_proba(train_df[features])\n",
    "        test_pred = clf.predict(test_df[features])\n",
    "        test_pred_prob = clf.predict_proba(test_df[features])\n",
    "\n",
    "        train_metrics = calculate_classification_scores(train_df[target_label], train_pred, train_pred_prob)\n",
    "        test_metrics = calculate_classification_scores(test_df[target_label], test_pred, test_pred_prob)\n",
    "\n",
    "        result_dict[target_label] = {\n",
    "            \"cv_scores\": cv_scores,\n",
    "            \"train\": {\"model\": clf, \"y_true\": train_df[target_label], \"y_pred\": train_pred, \"y_prob\": train_pred_prob, \"metrics\": train_metrics},\n",
    "            \"test\": {\"model\": clf, \"y_true\": test_df[target_label], \"y_pred\": test_pred, \"y_prob\": test_pred_prob, \"metrics\": test_metrics}\n",
    "        }\n",
    "\n",
    "        # Encuentra todas las combinaciones únicas de 'cabin_in_surveyed_flight' y 'haul'\n",
    "        combinations = df[['cabin_in_surveyed_flight', 'haul']].drop_duplicates()\n",
    "\n",
    "        for index, row in combinations.iterrows():\n",
    "            cabin = row['cabin_in_surveyed_flight']\n",
    "            haul = row['haul']\n",
    "            cabin_haul_key = f\"{cabin}_{haul}\"  # Clave única para cada combinación\n",
    "\n",
    "            # Filtrar train_df y test_df por cabin y haul\n",
    "            train_ch_df = train_df[(train_df['cabin_in_surveyed_flight'] == cabin) & (train_df['haul'] == haul)]\n",
    "            test_ch_df = test_df[(test_df['cabin_in_surveyed_flight'] == cabin) & (test_df['haul'] == haul)]\n",
    "\n",
    "            if not train_ch_df.empty and not test_ch_df.empty:\n",
    "                    train_pred_ch = clf.predict(train_ch_df[features])\n",
    "                    train_pred_prob_ch = clf.predict_proba(train_ch_df[features])\n",
    "                    test_pred_ch = clf.predict(test_ch_df[features])\n",
    "                    test_pred_prob_ch = clf.predict_proba(test_ch_df[features])\n",
    "\n",
    "                    train_metrics_ch = calculate_classification_scores(train_ch_df[target_label], train_pred_ch, train_pred_prob_ch)\n",
    "                    test_metrics_ch = calculate_classification_scores(test_ch_df[target_label], test_pred_ch, test_pred_prob_ch)\n",
    "\n",
    "                    result_dict_ch[target_label] = result_dict_ch.get(target_label, {})\n",
    "                    result_dict_ch[target_label][cabin_haul_key] = {\n",
    "                        \"train\": {\"y_true\": train_ch_df[target_label], \"y_pred\": train_pred_ch, \"y_prob\": train_pred_prob_ch, \"metrics\": train_metrics_ch},\n",
    "                        \"test\": {\"y_true\": test_ch_df[target_label], \"y_pred\": test_pred_ch, \"y_prob\": test_pred_prob_ch, \"metrics\": test_metrics_ch}\n",
    "                    }\n",
    "    \n",
    "    return result_dict, result_dict_ch\n",
    "\n",
    "def train_models(df, features, labels, start_date, end_date, n_splits=10):\n",
    "    \"\"\"\n",
    "    Entrena modelos para predecir promotores y detractores dentro de un rango de fechas.\n",
    "\n",
    "    Args:\n",
    "    - df: DataFrame con los datos.\n",
    "    - features: Lista de características a usar.\n",
    "    - labels: Lista de etiquetas a predecir.\n",
    "    - start_date: Fecha de inicio para los datos de entrenamiento.\n",
    "    - end_date: Fecha de fin para los datos de entrenamiento.\n",
    "    - n_splits: Número de divisiones para validación cruzada.\n",
    "\n",
    "    Returns:\n",
    "    - Un diccionario con los modelos entrenados, los conjuntos de datos de entrenamiento y prueba.\n",
    "    \"\"\"\n",
    "    # Filtrar el DataFrame por el rango de fechas\n",
    "    df_filtered = df[(df['date_flight_local'] >= start_date) & (df['date_flight_local'] < end_date)]\n",
    "    \n",
    "    # Llamada a la función existente para entrenar y evaluar modelos\n",
    "    result_dict, result_dict_ch = train_test_predict_cv_ctb(df_filtered, features, labels, n_splits)\n",
    "    \n",
    "    # Guardar modelos\n",
    "    models = {label: result_dict[label]['train']['model'] for label in labels}\n",
    "    \n",
    "    # Guardar métricas\n",
    "    metrics_train = {label: result_dict[label]['train']['metrics'] for label in labels}\n",
    "    metrics_test = {label: result_dict[label]['test']['metrics'] for label in labels}\n",
    "    \n",
    "    # Guardar conjuntos de entrenamiento y prueba\n",
    "    # train_set = result_dict[\"train_set\"]\n",
    "    # test_set = result_dict[\"test_set\"]\n",
    "    \n",
    "    return {\"models\": models, \"metrics_train\": metrics_train, \"metrics_test\": metrics_test}, result_dict_ch"
   ]
  },
  {
   "cell_type": "code",
   "execution_count": 50,
   "metadata": {
    "tags": []
   },
   "outputs": [],
   "source": [
    "df_nps_tkt.to_csv('historic_with_delay.csv')"
   ]
  },
  {
   "cell_type": "code",
   "execution_count": 51,
   "metadata": {},
   "outputs": [],
   "source": [
    "# Asume que df_nps_tkt_select es tu DataFrame y ya ha sido cargado correctamente\n",
    "train_results, cabin_haul_results = train_models(df=df_nps_tkt, \n",
    "                             features=features_dummy, \n",
    "                             labels=labels, \n",
    "                             start_date='2019-01-01', \n",
    "                             end_date='2024-04-17', \n",
    "                             n_splits=10)"
   ]
  },
  {
   "cell_type": "code",
   "execution_count": 52,
   "metadata": {},
   "outputs": [
    {
     "data": {
      "text/plain": [
       "{'promoter_binary': {'sample size': 449977,\n",
       "  'len_y_pred': 449977,\n",
       "  'len_y_prob': 449977,\n",
       "  'pct_target': 0.5511348357804955,\n",
       "  'pct_pred': 0.5716314389402125,\n",
       "  'confusion_matrix': array([[161627,  40352],\n",
       "         [ 31129, 216869]]),\n",
       "  'accuracy': 0.8411452140887201,\n",
       "  'precision': 0.8410505699353797,\n",
       "  'recall': 0.8411452140887201,\n",
       "  'f1': 0.8407393724572606,\n",
       "  'log_loss': 0.35487941264240586},\n",
       " 'detractor_binary': {'sample size': 449977,\n",
       "  'len_y_pred': 449977,\n",
       "  'len_y_prob': 449977,\n",
       "  'pct_target': 0.2340852976929932,\n",
       "  'pct_pred': 0.20415487902715027,\n",
       "  'confusion_matrix': array([[329762,  14882],\n",
       "         [ 28350,  76983]]),\n",
       "  'accuracy': 0.9039239783366705,\n",
       "  'precision': 0.9014447397705182,\n",
       "  'recall': 0.9039239783366705,\n",
       "  'f1': 0.9015637607485413,\n",
       "  'log_loss': 0.23566030426669682}}"
      ]
     },
     "execution_count": 52,
     "metadata": {},
     "output_type": "execute_result"
    }
   ],
   "source": [
    "train_results['metrics_train']"
   ]
  },
  {
   "cell_type": "code",
   "execution_count": 53,
   "metadata": {},
   "outputs": [
    {
     "data": {
      "text/plain": [
       "{'promoter_binary': {'sample size': 23020,\n",
       "  'len_y_pred': 23020,\n",
       "  'len_y_prob': 23020,\n",
       "  'pct_target': 0.5797132927888793,\n",
       "  'pct_pred': 0.6183318853171156,\n",
       "  'confusion_matrix': array([[ 7544,  2131],\n",
       "         [ 1242, 12103]]),\n",
       "  'accuracy': 0.853475238922676,\n",
       "  'precision': 0.8537977312319127,\n",
       "  'recall': 0.853475238922676,\n",
       "  'f1': 0.8523088358959566,\n",
       "  'log_loss': 0.32912668896043484},\n",
       " 'detractor_binary': {'sample size': 23020,\n",
       "  'len_y_pred': 23020,\n",
       "  'len_y_prob': 23020,\n",
       "  'pct_target': 0.22567332754126845,\n",
       "  'pct_pred': 0.19278887923544744,\n",
       "  'confusion_matrix': array([[17236,   589],\n",
       "         [ 1346,  3849]]),\n",
       "  'accuracy': 0.9159426585577759,\n",
       "  'precision': 0.9139603264715329,\n",
       "  'recall': 0.9159426585577759,\n",
       "  'f1': 0.9135137658059903,\n",
       "  'log_loss': 0.2118192728453775}}"
      ]
     },
     "execution_count": 53,
     "metadata": {},
     "output_type": "execute_result"
    }
   ],
   "source": [
    "train_results['metrics_test']"
   ]
  },
  {
   "cell_type": "code",
   "execution_count": null,
   "metadata": {
    "tags": []
   },
   "outputs": [],
   "source": [
    "cabin_haul_results['detractor_binary']['Business_LH']['test']['metrics']"
   ]
  },
  {
   "cell_type": "markdown",
   "metadata": {},
   "source": [
    "# Predict and Explain"
   ]
  },
  {
   "cell_type": "code",
   "execution_count": 54,
   "metadata": {},
   "outputs": [],
   "source": [
    "def inv_logit(x):\n",
    "    return 1 / (1 + np.exp(-x))\n",
    "\n",
    "def calculate_SHAP_and_probability_binary(model_promoter, model_detractor, test_set):\n",
    "    # Predicciones para el modelo de promotores\n",
    "    promoter_test_set = test_set.drop(['promoter_binary'], axis=1, errors='ignore')\n",
    "    predictions_promoter = pd.DataFrame(model_promoter.predict(promoter_test_set), columns=[\"prediction_prom\"])\n",
    "    proba_promoter = pd.DataFrame(model_promoter.predict_proba(promoter_test_set))[[1]].rename(columns={1: \"out_prob_prom\"})\n",
    "    \n",
    "    # Predicciones para el modelo de detractores\n",
    "    detractor_test_set = test_set.drop(['detractor_binary'], axis=1, errors='ignore')\n",
    "    predictions_detractor = pd.DataFrame(model_detractor.predict(detractor_test_set), columns=[\"prediction_det\"])\n",
    "    proba_detractor = pd.DataFrame(model_detractor.predict_proba(detractor_test_set))[[1]].rename(columns={1: \"out_prob_det\"})\n",
    "    \n",
    "    # Combinar resultados de predicción\n",
    "    prediction = pd.concat([predictions_promoter, proba_promoter, predictions_detractor, proba_detractor, test_set.reset_index(drop=True)], axis=1)\n",
    "    \n",
    "    # SHAP values y explicadores para el modelo promotor\n",
    "    shap_Explainer_promoter = shap.TreeExplainer(model_promoter)\n",
    "    shap_values_promoter = shap_Explainer_promoter.shap_values(promoter_test_set)\n",
    "    feature_names = [i for i in promoter_test_set.columns]\n",
    "    shap_values_prom = pd.DataFrame(shap_values_promoter, columns=[f\"{i}_prom\" for i in feature_names])\n",
    "    shap_values_prom[\"base_value_prom\"] = shap_Explainer_promoter.expected_value\n",
    "    shap_values_prom[\"out_value_prom\"] = shap_values_prom.sum(axis=1)\n",
    "    \n",
    "    # SHAP values y explicadores para el modelo detractor\n",
    "    shap_Explainer_detractor = shap.TreeExplainer(model_detractor)\n",
    "    shap_values_detractor = shap_Explainer_detractor.shap_values(detractor_test_set)\n",
    "    shap_values_det = pd.DataFrame(shap_values_detractor, columns=[f\"{i}_det\" for i in feature_names])\n",
    "    shap_values_det[\"base_value_det\"] = shap_Explainer_detractor.expected_value\n",
    "    shap_values_det[\"out_value_det\"] = shap_values_det.sum(axis=1)\n",
    "    \n",
    "    # Combinar SHAP values con predicciones\n",
    "    output_df = pd.concat([prediction, shap_values_prom, shap_values_det], axis=1)\n",
    "    \n",
    "    # Devolver el dataframe de salida y los explicadores SHAP\n",
    "    return output_df, shap_Explainer_promoter, shap_Explainer_detractor\n",
    "\n",
    "def from_shap_to_probability_binary(df, features_dummy, label_binary):\n",
    "    output_df = df.copy()\n",
    "    \n",
    "    # Determinar el sufijo basado en el tipo de modelo (promoter o detractor)\n",
    "    class_suffix = '_prom' if label_binary == 'promoter_binary' else '_det'\n",
    "    \n",
    "    # Identificar columnas de SHAP para la clase de interés, asumiendo que ya tienen el sufijo correcto\n",
    "    shap_columns = [col for col in df.columns if col.endswith(class_suffix)]\n",
    "    base_value_col = f'base_value{class_suffix}'\n",
    "    \n",
    "    # Convertir el valor base a probabilidades y actualizar el nombre de la columna\n",
    "    output_df[f'base_prob{class_suffix}'] = inv_logit(output_df[base_value_col])\n",
    "    \n",
    "    # Convertir valores SHAP a probabilidades sin cambiar los nombres de las columnas\n",
    "    for col in shap_columns:\n",
    "        output_df[col] = inv_logit(output_df[col])\n",
    "    \n",
    "    # Asegurarse de incluir solo las columnas relevantes en el DataFrame final\n",
    "    relevant_columns = shap_columns + [f'base_prob{class_suffix}'] + features_dummy\n",
    "    output_df = output_df[relevant_columns]\n",
    "    \n",
    "    return output_df\n",
    "\n",
    "def adjust_shap_values_binary(shap_values, base_prob, out_prob):\n",
    "    \"\"\"Ajustar los valores SHAP para un modelo binario basado en la distancia.\"\"\"\n",
    "    # Calcular la distancia total deseada entre la probabilidad base y la de salida\n",
    "    total_distance = out_prob - base_prob\n",
    "    # Calcular la suma total de los valores SHAP\n",
    "    total_shap = np.sum(shap_values)\n",
    "    # Calcular el factor de ajuste si la suma total de SHAP no es cero\n",
    "    adjustment_factor = total_distance / total_shap if total_shap != 0 else 0\n",
    "    # Ajustar los valores SHAP\n",
    "    return shap_values * adjustment_factor\n",
    "\n",
    "def from_shap_to_probability_binary(df, features_dummy, label_binary):\n",
    "    output_df = df.copy()\n",
    "    \n",
    "    # Determinar el sufijo basado en el tipo de modelo (promoter o detractor)\n",
    "    class_suffix = '_prom' if label_binary == 'promoter_binary' else '_det'\n",
    "    \n",
    "    # Identificar columnas de SHAP para la clase de interés, asumiendo que ya tienen el sufijo correcto\n",
    "    shap_columns = [f'{feature}{class_suffix}' for feature in features_dummy if f'{feature}{class_suffix}' in df.columns]\n",
    "    base_value_col = f'base_value{class_suffix}'\n",
    "    out_prob_col = f'out_prob{class_suffix}'\n",
    "\n",
    "    # Calcular la probabilidad base usando softmax o inv_logit según sea apropiado\n",
    "    output_df[f'base_prob{class_suffix}'] = inv_logit(output_df[base_value_col])\n",
    "\n",
    "    for index, row in output_df.iterrows():\n",
    "        # Extraer los valores SHAP para ajustar\n",
    "        shap_values = row[shap_columns].values\n",
    "        # Calcular los valores SHAP ajustados\n",
    "        adjusted_shap_values = adjust_shap_values_binary(shap_values, row[f'base_prob{class_suffix}'], row[out_prob_col])\n",
    "        # Actualizar el DataFrame con los valores SHAP ajustados\n",
    "        output_df.loc[index, shap_columns] = adjusted_shap_values\n",
    "\n",
    "    # Incluir solo las columnas relevantes en el DataFrame final\n",
    "    relevant_columns = shap_columns + [f'base_prob{class_suffix}', out_prob_col] + features_dummy\n",
    "    output_df = output_df[relevant_columns]\n",
    "    \n",
    "    return output_df"
   ]
  },
  {
   "cell_type": "code",
   "execution_count": 55,
   "metadata": {},
   "outputs": [],
   "source": [
    "def predict_and_explain(model_prom, model_det, df, features_dummy, start_date, end_date):\n",
    "    \"\"\"\n",
    "    Realiza predicciones y genera explicaciones para modelos de promotores y detractores\n",
    "    dentro de un rango de fechas específico.\n",
    "\n",
    "    Args:\n",
    "    - model_prom: Modelo entrenado para predecir promotores.\n",
    "    - model_det: Modelo entrenado para predecir detractores.\n",
    "    - df: DataFrame con los datos.\n",
    "    - features_dummy: Lista de características utilizadas para las predicciones.\n",
    "    - start_date: Fecha de inicio para los datos de prueba (formato 'YYYY-MM-DD').\n",
    "    - end_date: Fecha de fin para los datos de prueba (formato 'YYYY-MM-DD').\n",
    "\n",
    "    Returns:\n",
    "    - Nada, pero guarda los objetos de explicación SHAP con nombres que reflejan el mes y año.\n",
    "    \"\"\"\n",
    "    # 1. Filtrar el DataFrame por el rango de fechas\n",
    "    df_filtered = df[(df['date_flight_local'] >= start_date) & (df['date_flight_local'] < end_date)]\n",
    "\n",
    "    # 2. Asumiendo que las funciones de cálculo de SHAP y probabilidad ya están implementadas y ajustadas para usar df_filtered\n",
    "    df_contrib, explainer_prom, explainer_det = calculate_SHAP_and_probability_binary(model_prom, model_det, df_filtered[features_dummy])\n",
    "\n",
    "    # 3. Convertir valores SHAP a probabilidad\n",
    "    df_probability_prom = from_shap_to_probability_binary(df_contrib, features_dummy, 'promoter_binary')\n",
    "    df_probability_det = from_shap_to_probability_binary(df_contrib, features_dummy, 'detractor_binary')\n",
    "\n",
    "    # 4. Concatenar DataFrames para ambos modelos\n",
    "    df_probability_prom = df_probability_prom.reset_index(drop=True)\n",
    "    df_probability_det = df_probability_det.reset_index(drop=True)\n",
    "    unique_columns_det = [col for col in df_probability_det.columns if col not in df_probability_prom.columns]\n",
    "    df_probability_binary = pd.concat([df_probability_prom, df_probability_det[unique_columns_det]], axis=1)\n",
    "\n",
    "    # 5. Calcular columnas NPS con la diferencia entre _prom y _det\n",
    "    for column in df_probability_binary.columns:\n",
    "        if '_prom' in column:\n",
    "            base_name = column.split('_prom')[0]\n",
    "            det_column = f'{base_name}_det'\n",
    "            if det_column in df_probability_binary.columns:\n",
    "                nps_column = f'{base_name}_nps'\n",
    "                df_probability_binary[nps_column] = df_probability_binary[column] - df_probability_binary[det_column]\n",
    "\n",
    "    # 6. Agregar variables y valores SHAP para crear una explicación general\n",
    "    # num_vars = ['delay_departure','ticket_price']\n",
    "    num_vars = ['ticket_price', 'load_factor']\n",
    "    bin_vars = ['otp15_takeoff']\n",
    "    # bin_vars = ['otp15_takeoff'] + [col for col in df_nps_tkt.columns if 'country_agg' in col]\n",
    "    # cat_vars=['segment']\n",
    "    # bin_vars=[]\n",
    "    cat_vars=[]\n",
    "    touchpoints = [feat for feat in features_dummy if feat not in bin_vars + num_vars]\n",
    "    values_nps_sum = [df_probability_binary[f'{feat}_nps'].mean()*100 for feat in features_dummy]\n",
    "    num_var_scores = [df_probability_binary[num_var].mean() for num_var in num_vars]\n",
    "    bin_vars_scores = []\n",
    "    for var in bin_vars:\n",
    "        if var == 'otp15_takeoff':\n",
    "            # Para 'otp15_takeoff', calcula el porcentaje de 0s.\n",
    "            score = (df_probability_binary[df_probability_binary[var] == 0][var].count() / \n",
    "                     df_probability_binary[var].count()) * 100\n",
    "        else:\n",
    "            # Para cualquier otra variable, calcula el porcentaje de 1s.\n",
    "            score = (df_probability_binary[df_probability_binary[var] == 1][var].count() / \n",
    "                     df_probability_binary[var].count()) * 100\n",
    "        bin_vars_scores.append(score)\n",
    "    # Continuación después de calcular bin_vars_scores\n",
    "    cat_vars_scores = []\n",
    "    for cat_var in cat_vars:\n",
    "        cat_vars_scores.append(0)\n",
    "\n",
    "    satisfaction_scores = [df_probability_binary[df_probability_binary[tp] >= 8][tp].count() / df_probability_binary[tp].count() * 100 for tp in touchpoints]\n",
    "    shap_data = np.array(num_var_scores + bin_vars_scores + satisfaction_scores)\n",
    "    base_value_nps_sum = df_probability_binary['base_prob_prom'].mean() * 100 - df_probability_binary['base_prob_det'].mean() * 100\n",
    "    shap_values = np.array(values_nps_sum)  # Convertimos la lista en un array 2D\n",
    "    features_names = np.array(features_dummy)\n",
    "    explainer = shap.Explanation(values=shap_values, \n",
    "                                 base_values=base_value_nps_sum, \n",
    "                                 data=shap_data, \n",
    "                                 feature_names=features_names)\n",
    "        \n",
    "    return explainer, df_probability_binary\n",
    "\n",
    "\n"
   ]
  },
  {
   "cell_type": "code",
   "execution_count": null,
   "metadata": {
    "tags": []
   },
   "outputs": [],
   "source": [
    "model_prom=train_results['models']['promoter_binary']\n",
    "model_det=train_results['models']['detractor_binary']\n",
    "explanation, df_probability_binary = predict_and_explain(model_prom, model_det, df_nps_tkt, features_dummy, '2022-01-01','2024-04-11')"
   ]
  },
  {
   "cell_type": "code",
   "execution_count": null,
   "metadata": {
    "tags": []
   },
   "outputs": [],
   "source": [
    "import pickle\n",
    "\n",
    "# Assuming you have already defined and trained model_prom and model_det as follows:\n",
    "model_prom = train_results['models']['promoter_binary']\n",
    "model_det = train_results['models']['detractor_binary']\n",
    "\n",
    "# Save model_prom to a file\n",
    "with open('model_prom.pkl', 'wb') as file:\n",
    "    pickle.dump(model_prom, file)\n",
    "\n",
    "# Save model_det to a file\n",
    "with open('model_det.pkl', 'wb') as file:\n",
    "    pickle.dump(model_det, file)\n"
   ]
  },
  {
   "cell_type": "code",
   "execution_count": null,
   "metadata": {
    "tags": []
   },
   "outputs": [],
   "source": []
  },
  {
   "cell_type": "code",
   "execution_count": null,
   "metadata": {
    "tags": []
   },
   "outputs": [],
   "source": [
    "df_probability_binary.to_csv('corrected_delay.csv')"
   ]
  },
  {
   "cell_type": "code",
   "execution_count": null,
   "metadata": {
    "tags": []
   },
   "outputs": [],
   "source": [
    "df_probability_binary.columns"
   ]
  },
  {
   "cell_type": "code",
   "execution_count": null,
   "metadata": {},
   "outputs": [],
   "source": [
    "\n",
    "\n",
    "# Lista de años de interés\n",
    "years_of_interest = [2019, 2022, 2023, 2024]\n",
    "explanations=[]\n",
    "features_dummy = ['ticket_price', 'load_factor', 'otp15_takeoff', 'bkg_200_journey_preparation', 'pfl_100_checkin', \n",
    "                  'pfl_200_security', 'pfl_300_lounge', 'pfl_500_boarding', 'ifl_300_cabin', \n",
    "                  'ifl_200_flight_crew_annoucements', 'ifl_600_wifi', 'ifl_500_ife', 'ifl_400_food_drink', \n",
    "                  'ifl_100_cabin_crew', 'arr_100_arrivals', 'con_100_connections', \n",
    "                  'loy_200_loyalty_programme', 'img_310_ease_contact_phone']\n",
    "for year in years_of_interest:\n",
    "    for month in range(1, 13):\n",
    "        if year == 2024 and month > 4:\n",
    "            break\n",
    "        \n",
    "\n",
    "\n",
    "        start_date = f\"{year}-{month:02d}-01\"\n",
    "        end_date = (pd.to_datetime(start_date) + MonthEnd(1)).strftime('%Y-%m-%d')\n",
    "\n",
    "#         # Filtrar el DataFrame por las fechas de inicio y fin\n",
    "#         df_filtered = df_nps_tkt[(df_nps_tkt['date_flight_local'] >= start_date) & (df_nps_tkt['date_flight_local'] < end_date)]\n",
    "\n",
    "#         # Verificar si df_filtered está vacío\n",
    "#         if df_filtered.empty:\n",
    "#             print(f\"No hay datos para el rango de fechas desde {start_date} hasta {end_date}.\")\n",
    "#             continue\n",
    "\n",
    "        explanation, df_probability_binary = predict_and_explain(model_prom, model_det, df_nps_tkt, features_dummy, start_date, end_date)\n",
    "    \n",
    "       \n",
    "    \n",
    "        # No romper el bucle; solo continuar si 'explanation' es None\n",
    "        if explanation is not None:\n",
    "            print(explanation)\n",
    "            explanations.append(explanation)\n",
    "            # Guardar cada explicación con un nombre de archivo que refleje el mes y año\n",
    "            file_name = f'pipeline_output/raw_explanations/explanation_{month}_{year}.pkl'\n",
    "            with open(file_name, 'wb') as file:\n",
    "                pickle.dump(explanation, file)\n",
    "            print(file_name)\n",
    "            print(pred_nps)\n",
    "            shap.plots.waterfall(explanation, max_display=20)"
   ]
  },
  {
   "cell_type": "code",
   "execution_count": null,
   "metadata": {
    "tags": []
   },
   "outputs": [],
   "source": [
    "df_hist=pd.read_csv('pipeline_output/historic_predictions (11).csv')"
   ]
  },
  {
   "cell_type": "code",
   "execution_count": null,
   "metadata": {
    "tags": []
   },
   "outputs": [],
   "source": [
    "df_hist"
   ]
  },
  {
   "cell_type": "code",
   "execution_count": null,
   "metadata": {
    "tags": []
   },
   "outputs": [],
   "source": [
    "[df_hist[f'{feat}_nps'].mean()*100 for feat in features_dummy]"
   ]
  },
  {
   "cell_type": "code",
   "execution_count": null,
   "metadata": {
    "tags": []
   },
   "outputs": [],
   "source": [
    "def aggregate_shaps(df,features_dummy, start_date, end_date):\n",
    "\n",
    "    # 1. Filtrar el DataFrame por el rango de fechas\n",
    "    df_probability_binary = df[(df['date_flight_local'] >= start_date) & (df['date_flight_local'] < end_date)]\n",
    "    \n",
    "    # df_probability_binary.drop(columns=['respondent_id','date_flight_local','model_version','insert_date_ci'])\n",
    "\n",
    "    # 2. Asumiendo que las funciones de cálculo de SHAP y probabilidad ya están implementadas y ajustadas para usar df_filtered\n",
    "    # 6. Agregar variables y valores SHAP para crear una explicación general\n",
    "    # num_vars = ['delay_departure','ticket_price']\n",
    "    num_vars = ['ticket_price', 'load_factor']\n",
    "    bin_vars = ['otp15_takeoff']\n",
    "    # bin_vars = ['otp15_takeoff'] + [col for col in df_nps_tkt.columns if 'country_agg' in col]\n",
    "    # cat_vars=['segment']\n",
    "    # bin_vars=[]\n",
    "    cat_vars=[]\n",
    "    touchpoints = [feat for feat in features_dummy if feat not in bin_vars + num_vars]\n",
    "    \n",
    "    # values_nps_sum = [pd.to_numeric(df_probability_binary[f'{feat}_nps'], errors='coerce').mean()*100 for feat in features_dummy]\n",
    "    values_nps_sum = [df_probability_binary[f'{feat}_nps'].mean()*100 for feat in features_dummy]\n",
    "    num_var_scores = [df_probability_binary[num_var].mean() for num_var in num_vars]\n",
    "    bin_vars_scores = []\n",
    "    for var in bin_vars:\n",
    "        if var == 'otp15_takeoff':\n",
    "            # Para 'otp15_takeoff', calcula el porcentaje de 0s.\n",
    "            score = (df_probability_binary[df_probability_binary[var] == 0][var].count() / \n",
    "                     df_probability_binary[var].count()) * 100\n",
    "        else:\n",
    "            # Para cualquier otra variable, calcula el porcentaje de 1s.\n",
    "            score = (df_probability_binary[df_probability_binary[var] == 1][var].count() / \n",
    "                     df_probability_binary[var].count()) * 100\n",
    "        bin_vars_scores.append(score)\n",
    "    # Continuación después de calcular bin_vars_scores\n",
    "    cat_vars_scores = []\n",
    "    for cat_var in cat_vars:\n",
    "        cat_vars_scores.append(0)\n",
    "\n",
    "    satisfaction_scores = [df_probability_binary[df_probability_binary[tp] >= 8][tp].count() / df_probability_binary[tp].count() * 100 for tp in touchpoints]\n",
    "    shap_data = np.array(num_var_scores + bin_vars_scores + satisfaction_scores)\n",
    "    base_value_nps_sum = df_probability_binary['base_prob_nps'].mean() * 100\n",
    "    shap_values = np.array(values_nps_sum)  # Convertimos la lista en un array 2D\n",
    "    features_names = np.array(features_dummy)\n",
    "    explainer = shap.Explanation(values=shap_values, \n",
    "                                 base_values=base_value_nps_sum, \n",
    "                                 data=shap_data, \n",
    "                                 feature_names=features_names)\n",
    "    pred_nps = df_probability_binary['out_prob_nps'].mean()\n",
    "        \n",
    "    return explainer, df_probability_binary, pred_nps\n",
    "\n",
    "# model_prom=train_results['models']['promoter_binary']\n",
    "# model_det=train_results['models']['detractor_binary']\n",
    "\n",
    "# Lista de años de interés\n",
    "years_of_interest = [2019, 2022, 2023, 2024]\n",
    "explanations=[]\n",
    "features_dummy = ['ticket_price', 'load_factor', 'otp15_takeoff', 'bkg_200_journey_preparation', 'pfl_100_checkin', \n",
    "                  'pfl_200_security', 'pfl_300_lounge', 'pfl_500_boarding', 'ifl_300_cabin', \n",
    "                  'ifl_200_flight_crew_annoucements', 'ifl_600_wifi', 'ifl_500_ife', 'ifl_400_food_drink', \n",
    "                  'ifl_100_cabin_crew', 'arr_100_arrivals', 'con_100_connections', \n",
    "                  'loy_200_loyalty_programme', 'img_310_ease_contact_phone']\n",
    "for year in years_of_interest:\n",
    "    for month in range(1, 13):\n",
    "        if year == 2024 and month > 4:\n",
    "            break\n",
    "        \n",
    "\n",
    "\n",
    "        start_date = f\"{year}-{month:02d}-01\"\n",
    "        end_date = (pd.to_datetime(start_date) + MonthEnd(1)).strftime('%Y-%m-%d')\n",
    "\n",
    "#         # Filtrar el DataFrame por las fechas de inicio y fin\n",
    "#         df_filtered = df_nps_tkt[(df_nps_tkt['date_flight_local'] >= start_date) & (df_nps_tkt['date_flight_local'] < end_date)]\n",
    "\n",
    "#         # Verificar si df_filtered está vacío\n",
    "#         if df_filtered.empty:\n",
    "#             print(f\"No hay datos para el rango de fechas desde {start_date} hasta {end_date}.\")\n",
    "#             continue\n",
    "\n",
    "        explanation, df_probability_binary, pred_nps = aggregate_shaps(df_hist,features_dummy, start_date, end_date)\n",
    "    \n",
    "       \n",
    "    \n",
    "        # No romper el bucle; solo continuar si 'explanation' es None\n",
    "        if explanation is not None:\n",
    "            print(explanation)\n",
    "            explanations.append(explanation)\n",
    "            # Guardar cada explicación con un nombre de archivo que refleje el mes y año\n",
    "            file_name = f'pipeline_output/raw_explanations/explanation_{month}_{year}.pkl'\n",
    "            with open(file_name, 'wb') as file:\n",
    "                pickle.dump(explanation, file)\n",
    "            print(file_name)\n",
    "            print(pred_nps)\n",
    "            shap.plots.waterfall(explanation, max_display=20)\n"
   ]
  },
  {
   "cell_type": "code",
   "execution_count": null,
   "metadata": {
    "tags": []
   },
   "outputs": [],
   "source": [
    "def compare_monthly_explanations(start_year, start_month, end_year, end_month):\n",
    "    \"\"\"\n",
    "    Compara automáticamente cada mes con el mismo mes del año anterior o con 2019 si el año es 2022,\n",
    "    desde una fecha de inicio dada, y devuelve un diccionario con los objetos de explicación.\n",
    "\n",
    "    Args:\n",
    "    - start_year: Año de inicio para las comparaciones.\n",
    "    - start_month: Mes de inicio para las comparaciones.\n",
    "    - end_year: Año final para las comparaciones.\n",
    "    - end_month: Mes final para las comparaciones.\n",
    "\n",
    "    Returns:\n",
    "    - Un diccionario con las comparaciones de objetos de explicación. Las claves son las fechas de comparación.\n",
    "    \"\"\"\n",
    "    uplifting_explanations_dict = {}\n",
    "\n",
    "    for year in range(start_year, end_year + 1):\n",
    "        for month in range(1, 13):\n",
    "            if year == start_year and month < start_month:\n",
    "                continue\n",
    "            if year == end_year and month > end_month:\n",
    "                break\n",
    "\n",
    "            # Ajuste para el año 2022: comparar con 2019\n",
    "            if year == 2022:\n",
    "                previous_year_explanation = load_explanation(2019, month)\n",
    "            else:\n",
    "                previous_year_explanation = load_explanation(year - 1, month)\n",
    "\n",
    "            current_explanation = load_explanation(year, month)\n",
    "\n",
    "            if current_explanation is not None and previous_year_explanation is not None:\n",
    "                uplifting_explanation = create_uplifting_explanation(previous_year_explanation,current_explanation)\n",
    "                # Ajuste en la clave para reflejar la comparación especial del año 2022 con 2019\n",
    "                if year == 2022:\n",
    "                    date_key = f\"2019-{month:02d} to {year}-{month:02d}\"\n",
    "                else:\n",
    "                    date_key = f\"{year-1}-{month:02d} to {year}-{month:02d}\"\n",
    "                uplifting_explanations_dict[date_key] = uplifting_explanation\n",
    "            print(date_key)  \n",
    "            shap.plots.waterfall(uplifting_explanations_dict[date_key], max_display=20)\n",
    "\n",
    "    return uplifting_explanations_dict\n",
    "\n",
    "# Ejemplo de uso\n",
    "uplifting_explanations_dict = compare_monthly_explanations(2023, 3, 2024, 3)"
   ]
  },
  {
   "cell_type": "code",
   "execution_count": null,
   "metadata": {
    "tags": []
   },
   "outputs": [],
   "source": [
    "os.getcwd()"
   ]
  },
  {
   "cell_type": "code",
   "execution_count": null,
   "metadata": {
    "tags": []
   },
   "outputs": [],
   "source": [
    "import os\n",
    "\n",
    "# Define la ruta al directorio deseado\n",
    "path = '/root/NPS forecasting model/nps_client_model/Explainability_model_pipeline/develop'\n",
    "\n",
    "# Cambia el directorio de trabajo\n",
    "os.chdir(path)\n",
    "\n",
    "# Verifica el cambio de directorio\n",
    "print(\"Directorio actual:\", os.getcwd())\n"
   ]
  },
  {
   "cell_type": "code",
   "execution_count": null,
   "metadata": {},
   "outputs": [],
   "source": [
    "import pickle\n",
    "years_of_interest = [2022, 2023]\n",
    "explanation = {}\n",
    "for year in years_of_interest:\n",
    "    for month in range(1, 13):\n",
    "        if year == 2023 and month > 2:\n",
    "            break\n",
    "        file_name = f'v8_lf_dem_reconstructed/compared_explanations/explanation_{year}-0{month} to {year+1}-0{month}.pkl'\n",
    "        try:\n",
    "            with open(file_name, 'rb') as file:\n",
    "                explanation[f'{month}_{year}'] = pickle.load(file)\n",
    "            print(f\"Loaded {file_name}\")\n",
    "            shap.plots.waterfall(explanation[f'{month}_{year}'], max_display=20)\n",
    "        except FileNotFoundError:\n",
    "            print(f\"File {file_name} not found.\")\n"
   ]
  },
  {
   "cell_type": "markdown",
   "metadata": {
    "tags": []
   },
   "source": [
    "# Comparisons"
   ]
  },
  {
   "cell_type": "code",
   "execution_count": null,
   "metadata": {},
   "outputs": [],
   "source": [
    "def create_uplifting_explanation(explanation2, explanation1):\n",
    "    \"\"\"\n",
    "    Create a new Explanation object representing the uplifting between two Explanation objects.\n",
    "\n",
    "    Parameters:\n",
    "        - explanation1: The first shap.Explanation object.\n",
    "        - explanation2: The second shap.Explanation object.\n",
    "\n",
    "    Returns:\n",
    "        - A new shap.Explanation object representing the uplifting.\n",
    "    \"\"\"\n",
    "    # Calculate the difference in values, base_values, and data\n",
    "    diff_values = explanation1.values - explanation2.values\n",
    "    \n",
    "    diff_base_values = explanation2.base_values + sum(explanation2.values)\n",
    "    print(sum(explanation2.values))\n",
    "    diff_data = explanation1.data - explanation2.data\n",
    "\n",
    "    # Create a new Explanation object with the difference values\n",
    "    diff_explanation = shap.Explanation(values=diff_values, base_values=diff_base_values, data=diff_data,\n",
    "                                        feature_names=explanation1.feature_names)\n",
    "\n",
    "    return diff_explanation"
   ]
  },
  {
   "cell_type": "code",
   "execution_count": null,
   "metadata": {
    "tags": []
   },
   "outputs": [],
   "source": [
    "def adjust_shap_values(shap_explanation, monotonic_constraints):\n",
    "    # Step 1: Compute total SHAP contribution\n",
    "    total_shap_contribution = np.sum(shap_explanation.values)\n",
    "\n",
    "    # Step 2: Handle zero .data cases\n",
    "    non_zero_data_indices = [i for i, data in enumerate(shap_explanation.data) if data != 0]\n",
    "    for i, data in enumerate(shap_explanation.data):\n",
    "        if data == 0:\n",
    "            shap_explanation.values[i] = 0\n",
    "\n",
    "    # Step 3: Adjust values based on monotonic constraints\n",
    "    for i in non_zero_data_indices:\n",
    "        feature = shap_explanation.feature_names[i]\n",
    "        constraint = monotonic_constraints.get(feature, 0)\n",
    "        if constraint == 1 and np.sign(shap_explanation.data[i]) == np.sign(shap_explanation.values[i]):\n",
    "            shap_explanation.values[i] = -shap_explanation.values[i]\n",
    "        elif constraint == -1 and np.sign(shap_explanation.data[i]) != np.sign(shap_explanation.values[i]):\n",
    "            shap_explanation.values[i] = -shap_explanation.values[i]\n",
    "\n",
    "    # Step 4: Sign-preserving normalization for non-zero .data variables\n",
    "    current_total_non_zero = sum(shap_explanation.values[i] for i in non_zero_data_indices)\n",
    "    if current_total_non_zero != 0:\n",
    "        normalization_factor = total_shap_contribution / current_total_non_zero\n",
    "        for i in non_zero_data_indices:\n",
    "            shap_explanation.values[i] *= normalization_factor\n",
    "\n",
    "    # Step 5: Return the modified SHAP explanation object\n",
    "    return shap_explanation"
   ]
  },
  {
   "cell_type": "code",
   "execution_count": null,
   "metadata": {
    "tags": []
   },
   "outputs": [],
   "source": [
    "def load_explanation(year, month):\n",
    "    \"\"\"Cargar un objeto de explicación desde un archivo.\"\"\"\n",
    "    file_name = f'pipeline_output/raw_explanations/explanation_{month}_{year}.pkl'\n",
    "    try:\n",
    "        with open(file_name, 'rb') as file:\n",
    "            explanation = pickle.load(file)\n",
    "        return explanation\n",
    "    except FileNotFoundError:\n",
    "        print(f\"No explanation file found for {month}/{year}.\")\n",
    "        return None\n",
    "\n",
    "# Ejemplo de uso: Comparar febrero de 2023 con febrero de 2022\n",
    "explanation_2022_02 = load_explanation(2022, 1)\n",
    "explanation_2023_02 = load_explanation(2023, 1)\n",
    "\n",
    "if explanation_2022_02 is not None and explanation_2023_02 is not None:\n",
    "    print('2022 vs 2023: Januery')\n",
    "    uplifting_explanation = create_uplifting_explanation(explanation_2023_02, explanation_2022_02)\n",
    "    # Procesar o visualizar el uplifting_explanation según sea necesario\n",
    "    shap.plots.waterfall(uplifting_explanation, max_display=30)\n",
    "\n"
   ]
  },
  {
   "cell_type": "raw",
   "metadata": {
    "tags": []
   },
   "source": [
    "explanation_2022_02"
   ]
  },
  {
   "cell_type": "code",
   "execution_count": null,
   "metadata": {
    "tags": []
   },
   "outputs": [],
   "source": [
    "uplifting_explanation"
   ]
  },
  {
   "cell_type": "code",
   "execution_count": null,
   "metadata": {
    "tags": []
   },
   "outputs": [],
   "source": [
    "def compare_monthly_explanations(start_year, start_month, end_year, end_month):\n",
    "    \"\"\"\n",
    "    Compara automáticamente cada mes con el mismo mes del año anterior o con 2019 si el año es 2022,\n",
    "    desde una fecha de inicio dada, y devuelve un diccionario con los objetos de explicación.\n",
    "\n",
    "    Args:\n",
    "    - start_year: Año de inicio para las comparaciones.\n",
    "    - start_month: Mes de inicio para las comparaciones.\n",
    "    - end_year: Año final para las comparaciones.\n",
    "    - end_month: Mes final para las comparaciones.\n",
    "\n",
    "    Returns:\n",
    "    - Un diccionario con las comparaciones de objetos de explicación. Las claves son las fechas de comparación.\n",
    "    \"\"\"\n",
    "    uplifting_explanations_dict = {}\n",
    "\n",
    "    for year in range(start_year, end_year + 1):\n",
    "        for month in range(1, 13):\n",
    "            if year == start_year and month < start_month:\n",
    "                continue\n",
    "            if year == end_year and month > end_month:\n",
    "                break\n",
    "\n",
    "            # Ajuste para el año 2022: comparar con 2019\n",
    "            if year == 2022:\n",
    "                previous_year_explanation = load_explanation(2019, month)\n",
    "            else:\n",
    "                previous_year_explanation = load_explanation(year - 1, month)\n",
    "\n",
    "            current_explanation = load_explanation(year, month)\n",
    "\n",
    "            if current_explanation is not None and previous_year_explanation is not None:\n",
    "                uplifting_explanation = create_uplifting_explanation(previous_year_explanation,current_explanation)\n",
    "                # Ajuste en la clave para reflejar la comparación especial del año 2022 con 2019\n",
    "                if year == 2022:\n",
    "                    date_key = f\"2019-{month:02d} to {year}-{month:02d}\"\n",
    "                else:\n",
    "                    date_key = f\"{year-1}-{month:02d} to {year}-{month:02d}\"\n",
    "                uplifting_explanations_dict[date_key] = uplifting_explanation\n",
    "\n",
    "    return uplifting_explanations_dict\n",
    "\n",
    "# Ejemplo de uso\n",
    "uplifting_explanations_dict = compare_monthly_explanations(2023, 1, 2024, 1)\n",
    "\n",
    "\n"
   ]
  },
  {
   "cell_type": "code",
   "execution_count": null,
   "metadata": {
    "tags": []
   },
   "outputs": [],
   "source": [
    "# Initialize a dictionary to store the monotonic parameters\n",
    "monotonic_params = {}\n",
    "# Loop through the features for this dataframe\n",
    "for feature in uplifting_explanation.feature_names:\n",
    "    if \"load_factor\" in feature or \"price\" in feature or \"delay\" in feature:\n",
    "        monotonic_params[f'{feature}']=-1  # Assign -1 to load_factor and mean_price\n",
    "    elif feature in touchpoints + ['otp15_takeoff']:\n",
    "        monotonic_params[f'{feature}']=1 # Assign 0 to other features for now\n",
    "print(monotonic_params)\n",
    "\n",
    "adjusted_explanations = {}\n",
    "for date, explanation in uplifting_explanations_dict.items():\n",
    "    print(date)\n",
    "    adjusted_explanations[date] = adjust_shap_values(explanation, monotonic_params)\n",
    "    shap.plots.waterfall(explanation, max_display=30)\n",
    "    # Guardar cada explicación con un nombre de archivo que refleje el mes y año\n",
    "    file_name = f'vnationality_lf_tprec_te/compared_explanations/explanation_{date}.pkl'\n",
    "    with open(file_name, 'wb') as file:\n",
    "        pickle.dump(adjusted_explanations[date], file)\n",
    "    "
   ]
  },
  {
   "cell_type": "raw",
   "metadata": {
    "tags": []
   },
   "source": [
    "def compare_with_januery_explanations(start_year, start_month, end_year, end_month):\n",
    "    \"\"\"\n",
    "    Compara automáticamente cada mes con enero, desde una fecha de inicio dada,\n",
    "    y devuelve un diccionario con los objetos de explicación.\n",
    "\n",
    "    Args:\n",
    "    - start_year: Año de inicio para las comparaciones.\n",
    "    - start_month: Mes de inicio para las comparaciones.\n",
    "    - end_year: Año final para las comparaciones.\n",
    "    - end_month: Mes final para las comparaciones.\n",
    "\n",
    "    Returns:\n",
    "    - Un diccionario con las comparaciones de objetos de explicación. Las claves son las fechas de comparación.\n",
    "    \"\"\"\n",
    "    uplifting_explanations_dict = {}\n",
    "\n",
    "    for year in range(start_year, end_year + 1):\n",
    "        for month in range(1, 13):\n",
    "            if year == start_year and month < start_month:\n",
    "                continue\n",
    "            if year == end_year and month > end_month:\n",
    "                break\n",
    "\n",
    "            current_explanation = load_explanation(year, month)\n",
    "            januery_explanation = load_explanation(start_year, 1)\n",
    "\n",
    "            if current_explanation is not None and januery_explanation is not None:\n",
    "                uplifting_explanation = create_uplifting_explanation(januery_explanation, current_explanation)\n",
    "                date_key = f\"{start_year}-01 to {year}-{month:02d}\"\n",
    "                uplifting_explanations_dict[date_key] = uplifting_explanation\n",
    "\n",
    "    return uplifting_explanations_dict\n",
    "\n",
    "# Ejemplo de uso\n",
    "uplifting_januery_explanations_dict = compare_with_januery_explanations(2023, 7, 2024, 1)"
   ]
  },
  {
   "cell_type": "raw",
   "metadata": {
    "tags": []
   },
   "source": [
    "# Initialize a dictionary to store the monotonic parameters\n",
    "monotonic_params = {}\n",
    "# Loop through the features for this dataframe\n",
    "for feature in uplifting_explanation.feature_names:\n",
    "    if \"load_factor\" in feature or \"price\" in feature or \"delay\" in feature:\n",
    "        monotonic_params[f'{feature}']=-1  # Assign -1 to load_factor and mean_price\n",
    "    else:\n",
    "        monotonic_params[f'{feature}']=1 # Assign 0 to other features for now\n",
    "    \n",
    "\n",
    "adjusted_explanations = {}\n",
    "for date, explanation in uplifting_januery_explanations_dict.items():\n",
    "    print(date)\n",
    "    adjusted_explanations[date] = adjust_shap_values(explanation, monotonic_params)\n",
    "    shap.plots.waterfall(explanation, max_display=20)\n",
    "    # Guardar cada explicación con un nombre de archivo que refleje el mes y año\n",
    "    file_name = f'vnationality_lf_tprec_te/compared_explanations/explanation_{date}.pkl'\n",
    "    with open(file_name, 'wb') as file:\n",
    "        pickle.dump(adjusted_explanations[date], file)"
   ]
  },
  {
   "cell_type": "markdown",
   "metadata": {},
   "source": [
    "# MAE"
   ]
  },
  {
   "cell_type": "code",
   "execution_count": null,
   "metadata": {
    "tags": []
   },
   "outputs": [],
   "source": [
    "uplifting_januery_explanations_dict"
   ]
  },
  {
   "cell_type": "markdown",
   "metadata": {},
   "source": [
    "# Explanations corrrected to meet true values"
   ]
  },
  {
   "cell_type": "code",
   "execution_count": null,
   "metadata": {
    "tags": []
   },
   "outputs": [],
   "source": [
    "nps_monthly_df"
   ]
  },
  {
   "cell_type": "code",
   "execution_count": null,
   "metadata": {
    "tags": []
   },
   "outputs": [],
   "source": [
    "\n",
    "def adjust_shap_values(original_shap_values, expected_value, real_value):\n",
    "    \"\"\"\n",
    "    Ajusta los valores SHAP utilizando un factor de normalización para que la suma del valor base y\n",
    "    los valores SHAP ajustados sea igual al valor NPS real.\n",
    "    \n",
    "    Args:\n",
    "    - original_shap_values: Array de valores SHAP originales para las características.\n",
    "    - expected_value: Valor base del modelo SHAP (el valor predicho sin contribuciones de características).\n",
    "    - real_value: Valor NPS real observado.\n",
    "    \n",
    "    Returns:\n",
    "    - Array de valores SHAP ajustados.\n",
    "    \"\"\"\n",
    "    # Calcula el valor NPS predicho por el modelo (valor base + suma de SHAPs)\n",
    "    predicted_nps = expected_value + np.sum(original_shap_values)\n",
    "    \n",
    "    # Calcula el total actual de los valores SHAP\n",
    "    total_shap_sum = np.sum(original_shap_values)\n",
    "    \n",
    "    # Determina la nueva suma total de los valores SHAP necesaria para que la suma de esta con el valor base sea igual al valor NPS real\n",
    "    required_shap_sum = real_value - expected_value\n",
    "    \n",
    "    # Calcula el factor de normalización\n",
    "    if total_shap_sum != 0:  # Prevenir división por cero\n",
    "        normalization_factor = required_shap_sum / total_shap_sum\n",
    "    else:\n",
    "        normalization_factor = 0\n",
    "    \n",
    "    # Ajusta los valores SHAP utilizando el factor de normalización\n",
    "    adjusted_shap_values = original_shap_values * normalization_factor\n",
    "    \n",
    "    return adjusted_shap_values\n",
    "\n",
    "explanations_dict = {}\n",
    "\n",
    "for index, row in nps_monthly_df.iterrows():\n",
    "    year_month_key = f\"{row['date_flight_local'].year}-{row['date_flight_local'].month:02d}\"\n",
    "    real_value = row['NPS']\n",
    "\n",
    "    file_name = f'vnationality_lf_tprec_te/raw_explanations/explanation_{row[\"date_flight_local\"].month}_{row[\"date_flight_local\"].year}.pkl'\n",
    "    try:\n",
    "        with open(file_name, 'rb') as file:\n",
    "            original_explanation = pickle.load(file)\n",
    "            \n",
    "            # Ajusta los valores SHAP\n",
    "            adjusted_shap_values = adjust_shap_values(original_explanation.values, original_explanation.base_values, real_value)\n",
    "            \n",
    "            # Crea el nuevo objeto de explicación SHAP ajustado\n",
    "            adjusted_explanation = shap.Explanation(\n",
    "                values=adjusted_shap_values,\n",
    "                base_values=original_explanation.base_values,\n",
    "                data=original_explanation.data,\n",
    "                feature_names=original_explanation.feature_names\n",
    "            )\n",
    "            \n",
    "            # Verifica si el valor NPS ajustado coincide con el valor NPS real\n",
    "            adjusted_nps = adjusted_explanation.base_values + np.sum(adjusted_shap_values)\n",
    "            \n",
    "            if np.isclose(adjusted_nps, real_value, atol=1e-6):\n",
    "                # Guarda en el diccionario\n",
    "                explanations_dict[year_month_key] = {\n",
    "                    \"original_explanation\": original_explanation,\n",
    "                    \"adjusted_shap_values\": adjusted_explanation,\n",
    "                    \"error\": real_value - original_explanation.base_values - np.sum(original_explanation.values)\n",
    "                }\n",
    "            else:\n",
    "                print(f\"Error en la coincidencia de NPS para {year_month_key}: ajustado {adjusted_nps}, predicted {original_explanation.base_values + np.sum(original_explanation.values)}, real {real_value}, base: {original_explanation.base_values}\")\n",
    "    except FileNotFoundError:\n",
    "        print(f\"Archivo no encontrado: {file_name}\")\n"
   ]
  },
  {
   "cell_type": "code",
   "execution_count": null,
   "metadata": {
    "tags": []
   },
   "outputs": [],
   "source": [
    "# Ejemplo de cómo acceder a la información ajustada\n",
    "# Suponiendo que queremos ver la explicación ajustada para Marzo 2022\n",
    "if '2022-03' in explanations_dict:\n",
    "    print(explanations_dict['2022-03'])\n",
    "else:\n",
    "    print(\"No se encontró la explicación ajustada para Marzo 2022.\")"
   ]
  },
  {
   "cell_type": "code",
   "execution_count": null,
   "metadata": {
    "tags": []
   },
   "outputs": [],
   "source": [
    "def plot_waterfall_comparison(original_explanation, adjusted_explanation, error):\n",
    "    # Preparar datos para el gráfico\n",
    "    features = original_explanation.feature_names\n",
    "    original_values = np.sum(original_explanation.values, axis=0)  # Suma de valores SHAP por característica\n",
    "    adjusted_values = np.sum(adjusted_explanation.values, axis=0)  # Asegúrate de acceder a .values del objeto Explanation\n",
    "    base_value = original_explanation.base_values\n",
    "\n",
    "    # Crear arrays para el gráfico\n",
    "    labels = np.concatenate([features, ['Base Value', 'Error']])\n",
    "    contributions = np.concatenate([original_values - adjusted_values, [base_value, error]])\n",
    "    starts = np.zeros_like(contributions)\n",
    "    starts[1:] = np.cumsum(contributions[:-1])\n",
    "    colors = ['skyblue'] * len(features) + ['salmon', 'gray']\n",
    "\n",
    "    # Crear gráfico de cascada\n",
    "    fig, ax = plt.subplots(figsize=(14, 6))\n",
    "    ax.bar(labels, contributions, bottom=starts, color=colors, edgecolor='gray')\n",
    "    ax.set_title('SHAP Values: Original vs Adjusted')\n",
    "    ax.set_ylabel('Contribution to NPS')\n",
    "    plt.xticks(rotation=45, ha='right')\n",
    "\n",
    "    plt.tight_layout()\n",
    "    plt.show()\n",
    "\n",
    "# Asegúrate de pasar los objetos de explicación correctos y el error a la función.\n",
    "if '2022-03' in explanations_dict:\n",
    "    original_explanation = explanations_dict['2022-03'][\"original_explanation\"]\n",
    "    adjusted_explanation = explanations_dict['2022-03'][\"adjusted_shap_values\"]\n",
    "    error = explanations_dict['2022-03'][\"error\"]\n",
    "    plot_waterfall_comparison(original_explanation, adjusted_explanation, error)\n",
    "else:\n",
    "    print(\"Datos no disponibles para el mes seleccionado.\")\n"
   ]
  },
  {
   "cell_type": "code",
   "execution_count": null,
   "metadata": {},
   "outputs": [],
   "source": []
  }
 ],
 "metadata": {
  "availableInstances": [
   {
    "_defaultOrder": 0,
    "_isFastLaunch": true,
    "category": "General purpose",
    "gpuNum": 0,
    "hideHardwareSpecs": false,
    "memoryGiB": 4,
    "name": "ml.t3.medium",
    "vcpuNum": 2
   },
   {
    "_defaultOrder": 1,
    "_isFastLaunch": false,
    "category": "General purpose",
    "gpuNum": 0,
    "hideHardwareSpecs": false,
    "memoryGiB": 8,
    "name": "ml.t3.large",
    "vcpuNum": 2
   },
   {
    "_defaultOrder": 2,
    "_isFastLaunch": false,
    "category": "General purpose",
    "gpuNum": 0,
    "hideHardwareSpecs": false,
    "memoryGiB": 16,
    "name": "ml.t3.xlarge",
    "vcpuNum": 4
   },
   {
    "_defaultOrder": 3,
    "_isFastLaunch": false,
    "category": "General purpose",
    "gpuNum": 0,
    "hideHardwareSpecs": false,
    "memoryGiB": 32,
    "name": "ml.t3.2xlarge",
    "vcpuNum": 8
   },
   {
    "_defaultOrder": 4,
    "_isFastLaunch": true,
    "category": "General purpose",
    "gpuNum": 0,
    "hideHardwareSpecs": false,
    "memoryGiB": 8,
    "name": "ml.m5.large",
    "vcpuNum": 2
   },
   {
    "_defaultOrder": 5,
    "_isFastLaunch": false,
    "category": "General purpose",
    "gpuNum": 0,
    "hideHardwareSpecs": false,
    "memoryGiB": 16,
    "name": "ml.m5.xlarge",
    "vcpuNum": 4
   },
   {
    "_defaultOrder": 6,
    "_isFastLaunch": false,
    "category": "General purpose",
    "gpuNum": 0,
    "hideHardwareSpecs": false,
    "memoryGiB": 32,
    "name": "ml.m5.2xlarge",
    "vcpuNum": 8
   },
   {
    "_defaultOrder": 7,
    "_isFastLaunch": false,
    "category": "General purpose",
    "gpuNum": 0,
    "hideHardwareSpecs": false,
    "memoryGiB": 64,
    "name": "ml.m5.4xlarge",
    "vcpuNum": 16
   },
   {
    "_defaultOrder": 8,
    "_isFastLaunch": false,
    "category": "General purpose",
    "gpuNum": 0,
    "hideHardwareSpecs": false,
    "memoryGiB": 128,
    "name": "ml.m5.8xlarge",
    "vcpuNum": 32
   },
   {
    "_defaultOrder": 9,
    "_isFastLaunch": false,
    "category": "General purpose",
    "gpuNum": 0,
    "hideHardwareSpecs": false,
    "memoryGiB": 192,
    "name": "ml.m5.12xlarge",
    "vcpuNum": 48
   },
   {
    "_defaultOrder": 10,
    "_isFastLaunch": false,
    "category": "General purpose",
    "gpuNum": 0,
    "hideHardwareSpecs": false,
    "memoryGiB": 256,
    "name": "ml.m5.16xlarge",
    "vcpuNum": 64
   },
   {
    "_defaultOrder": 11,
    "_isFastLaunch": false,
    "category": "General purpose",
    "gpuNum": 0,
    "hideHardwareSpecs": false,
    "memoryGiB": 384,
    "name": "ml.m5.24xlarge",
    "vcpuNum": 96
   },
   {
    "_defaultOrder": 12,
    "_isFastLaunch": false,
    "category": "General purpose",
    "gpuNum": 0,
    "hideHardwareSpecs": false,
    "memoryGiB": 8,
    "name": "ml.m5d.large",
    "vcpuNum": 2
   },
   {
    "_defaultOrder": 13,
    "_isFastLaunch": false,
    "category": "General purpose",
    "gpuNum": 0,
    "hideHardwareSpecs": false,
    "memoryGiB": 16,
    "name": "ml.m5d.xlarge",
    "vcpuNum": 4
   },
   {
    "_defaultOrder": 14,
    "_isFastLaunch": false,
    "category": "General purpose",
    "gpuNum": 0,
    "hideHardwareSpecs": false,
    "memoryGiB": 32,
    "name": "ml.m5d.2xlarge",
    "vcpuNum": 8
   },
   {
    "_defaultOrder": 15,
    "_isFastLaunch": false,
    "category": "General purpose",
    "gpuNum": 0,
    "hideHardwareSpecs": false,
    "memoryGiB": 64,
    "name": "ml.m5d.4xlarge",
    "vcpuNum": 16
   },
   {
    "_defaultOrder": 16,
    "_isFastLaunch": false,
    "category": "General purpose",
    "gpuNum": 0,
    "hideHardwareSpecs": false,
    "memoryGiB": 128,
    "name": "ml.m5d.8xlarge",
    "vcpuNum": 32
   },
   {
    "_defaultOrder": 17,
    "_isFastLaunch": false,
    "category": "General purpose",
    "gpuNum": 0,
    "hideHardwareSpecs": false,
    "memoryGiB": 192,
    "name": "ml.m5d.12xlarge",
    "vcpuNum": 48
   },
   {
    "_defaultOrder": 18,
    "_isFastLaunch": false,
    "category": "General purpose",
    "gpuNum": 0,
    "hideHardwareSpecs": false,
    "memoryGiB": 256,
    "name": "ml.m5d.16xlarge",
    "vcpuNum": 64
   },
   {
    "_defaultOrder": 19,
    "_isFastLaunch": false,
    "category": "General purpose",
    "gpuNum": 0,
    "hideHardwareSpecs": false,
    "memoryGiB": 384,
    "name": "ml.m5d.24xlarge",
    "vcpuNum": 96
   },
   {
    "_defaultOrder": 20,
    "_isFastLaunch": false,
    "category": "General purpose",
    "gpuNum": 0,
    "hideHardwareSpecs": true,
    "memoryGiB": 0,
    "name": "ml.geospatial.interactive",
    "supportedImageNames": [
     "sagemaker-geospatial-v1-0"
    ],
    "vcpuNum": 0
   },
   {
    "_defaultOrder": 21,
    "_isFastLaunch": true,
    "category": "Compute optimized",
    "gpuNum": 0,
    "hideHardwareSpecs": false,
    "memoryGiB": 4,
    "name": "ml.c5.large",
    "vcpuNum": 2
   },
   {
    "_defaultOrder": 22,
    "_isFastLaunch": false,
    "category": "Compute optimized",
    "gpuNum": 0,
    "hideHardwareSpecs": false,
    "memoryGiB": 8,
    "name": "ml.c5.xlarge",
    "vcpuNum": 4
   },
   {
    "_defaultOrder": 23,
    "_isFastLaunch": false,
    "category": "Compute optimized",
    "gpuNum": 0,
    "hideHardwareSpecs": false,
    "memoryGiB": 16,
    "name": "ml.c5.2xlarge",
    "vcpuNum": 8
   },
   {
    "_defaultOrder": 24,
    "_isFastLaunch": false,
    "category": "Compute optimized",
    "gpuNum": 0,
    "hideHardwareSpecs": false,
    "memoryGiB": 32,
    "name": "ml.c5.4xlarge",
    "vcpuNum": 16
   },
   {
    "_defaultOrder": 25,
    "_isFastLaunch": false,
    "category": "Compute optimized",
    "gpuNum": 0,
    "hideHardwareSpecs": false,
    "memoryGiB": 72,
    "name": "ml.c5.9xlarge",
    "vcpuNum": 36
   },
   {
    "_defaultOrder": 26,
    "_isFastLaunch": false,
    "category": "Compute optimized",
    "gpuNum": 0,
    "hideHardwareSpecs": false,
    "memoryGiB": 96,
    "name": "ml.c5.12xlarge",
    "vcpuNum": 48
   },
   {
    "_defaultOrder": 27,
    "_isFastLaunch": false,
    "category": "Compute optimized",
    "gpuNum": 0,
    "hideHardwareSpecs": false,
    "memoryGiB": 144,
    "name": "ml.c5.18xlarge",
    "vcpuNum": 72
   },
   {
    "_defaultOrder": 28,
    "_isFastLaunch": false,
    "category": "Compute optimized",
    "gpuNum": 0,
    "hideHardwareSpecs": false,
    "memoryGiB": 192,
    "name": "ml.c5.24xlarge",
    "vcpuNum": 96
   },
   {
    "_defaultOrder": 29,
    "_isFastLaunch": true,
    "category": "Accelerated computing",
    "gpuNum": 1,
    "hideHardwareSpecs": false,
    "memoryGiB": 16,
    "name": "ml.g4dn.xlarge",
    "vcpuNum": 4
   },
   {
    "_defaultOrder": 30,
    "_isFastLaunch": false,
    "category": "Accelerated computing",
    "gpuNum": 1,
    "hideHardwareSpecs": false,
    "memoryGiB": 32,
    "name": "ml.g4dn.2xlarge",
    "vcpuNum": 8
   },
   {
    "_defaultOrder": 31,
    "_isFastLaunch": false,
    "category": "Accelerated computing",
    "gpuNum": 1,
    "hideHardwareSpecs": false,
    "memoryGiB": 64,
    "name": "ml.g4dn.4xlarge",
    "vcpuNum": 16
   },
   {
    "_defaultOrder": 32,
    "_isFastLaunch": false,
    "category": "Accelerated computing",
    "gpuNum": 1,
    "hideHardwareSpecs": false,
    "memoryGiB": 128,
    "name": "ml.g4dn.8xlarge",
    "vcpuNum": 32
   },
   {
    "_defaultOrder": 33,
    "_isFastLaunch": false,
    "category": "Accelerated computing",
    "gpuNum": 4,
    "hideHardwareSpecs": false,
    "memoryGiB": 192,
    "name": "ml.g4dn.12xlarge",
    "vcpuNum": 48
   },
   {
    "_defaultOrder": 34,
    "_isFastLaunch": false,
    "category": "Accelerated computing",
    "gpuNum": 1,
    "hideHardwareSpecs": false,
    "memoryGiB": 256,
    "name": "ml.g4dn.16xlarge",
    "vcpuNum": 64
   },
   {
    "_defaultOrder": 35,
    "_isFastLaunch": false,
    "category": "Accelerated computing",
    "gpuNum": 1,
    "hideHardwareSpecs": false,
    "memoryGiB": 61,
    "name": "ml.p3.2xlarge",
    "vcpuNum": 8
   },
   {
    "_defaultOrder": 36,
    "_isFastLaunch": false,
    "category": "Accelerated computing",
    "gpuNum": 4,
    "hideHardwareSpecs": false,
    "memoryGiB": 244,
    "name": "ml.p3.8xlarge",
    "vcpuNum": 32
   },
   {
    "_defaultOrder": 37,
    "_isFastLaunch": false,
    "category": "Accelerated computing",
    "gpuNum": 8,
    "hideHardwareSpecs": false,
    "memoryGiB": 488,
    "name": "ml.p3.16xlarge",
    "vcpuNum": 64
   },
   {
    "_defaultOrder": 38,
    "_isFastLaunch": false,
    "category": "Accelerated computing",
    "gpuNum": 8,
    "hideHardwareSpecs": false,
    "memoryGiB": 768,
    "name": "ml.p3dn.24xlarge",
    "vcpuNum": 96
   },
   {
    "_defaultOrder": 39,
    "_isFastLaunch": false,
    "category": "Memory Optimized",
    "gpuNum": 0,
    "hideHardwareSpecs": false,
    "memoryGiB": 16,
    "name": "ml.r5.large",
    "vcpuNum": 2
   },
   {
    "_defaultOrder": 40,
    "_isFastLaunch": false,
    "category": "Memory Optimized",
    "gpuNum": 0,
    "hideHardwareSpecs": false,
    "memoryGiB": 32,
    "name": "ml.r5.xlarge",
    "vcpuNum": 4
   },
   {
    "_defaultOrder": 41,
    "_isFastLaunch": false,
    "category": "Memory Optimized",
    "gpuNum": 0,
    "hideHardwareSpecs": false,
    "memoryGiB": 64,
    "name": "ml.r5.2xlarge",
    "vcpuNum": 8
   },
   {
    "_defaultOrder": 42,
    "_isFastLaunch": false,
    "category": "Memory Optimized",
    "gpuNum": 0,
    "hideHardwareSpecs": false,
    "memoryGiB": 128,
    "name": "ml.r5.4xlarge",
    "vcpuNum": 16
   },
   {
    "_defaultOrder": 43,
    "_isFastLaunch": false,
    "category": "Memory Optimized",
    "gpuNum": 0,
    "hideHardwareSpecs": false,
    "memoryGiB": 256,
    "name": "ml.r5.8xlarge",
    "vcpuNum": 32
   },
   {
    "_defaultOrder": 44,
    "_isFastLaunch": false,
    "category": "Memory Optimized",
    "gpuNum": 0,
    "hideHardwareSpecs": false,
    "memoryGiB": 384,
    "name": "ml.r5.12xlarge",
    "vcpuNum": 48
   },
   {
    "_defaultOrder": 45,
    "_isFastLaunch": false,
    "category": "Memory Optimized",
    "gpuNum": 0,
    "hideHardwareSpecs": false,
    "memoryGiB": 512,
    "name": "ml.r5.16xlarge",
    "vcpuNum": 64
   },
   {
    "_defaultOrder": 46,
    "_isFastLaunch": false,
    "category": "Memory Optimized",
    "gpuNum": 0,
    "hideHardwareSpecs": false,
    "memoryGiB": 768,
    "name": "ml.r5.24xlarge",
    "vcpuNum": 96
   },
   {
    "_defaultOrder": 47,
    "_isFastLaunch": false,
    "category": "Accelerated computing",
    "gpuNum": 1,
    "hideHardwareSpecs": false,
    "memoryGiB": 16,
    "name": "ml.g5.xlarge",
    "vcpuNum": 4
   },
   {
    "_defaultOrder": 48,
    "_isFastLaunch": false,
    "category": "Accelerated computing",
    "gpuNum": 1,
    "hideHardwareSpecs": false,
    "memoryGiB": 32,
    "name": "ml.g5.2xlarge",
    "vcpuNum": 8
   },
   {
    "_defaultOrder": 49,
    "_isFastLaunch": false,
    "category": "Accelerated computing",
    "gpuNum": 1,
    "hideHardwareSpecs": false,
    "memoryGiB": 64,
    "name": "ml.g5.4xlarge",
    "vcpuNum": 16
   },
   {
    "_defaultOrder": 50,
    "_isFastLaunch": false,
    "category": "Accelerated computing",
    "gpuNum": 1,
    "hideHardwareSpecs": false,
    "memoryGiB": 128,
    "name": "ml.g5.8xlarge",
    "vcpuNum": 32
   },
   {
    "_defaultOrder": 51,
    "_isFastLaunch": false,
    "category": "Accelerated computing",
    "gpuNum": 1,
    "hideHardwareSpecs": false,
    "memoryGiB": 256,
    "name": "ml.g5.16xlarge",
    "vcpuNum": 64
   },
   {
    "_defaultOrder": 52,
    "_isFastLaunch": false,
    "category": "Accelerated computing",
    "gpuNum": 4,
    "hideHardwareSpecs": false,
    "memoryGiB": 192,
    "name": "ml.g5.12xlarge",
    "vcpuNum": 48
   },
   {
    "_defaultOrder": 53,
    "_isFastLaunch": false,
    "category": "Accelerated computing",
    "gpuNum": 4,
    "hideHardwareSpecs": false,
    "memoryGiB": 384,
    "name": "ml.g5.24xlarge",
    "vcpuNum": 96
   },
   {
    "_defaultOrder": 54,
    "_isFastLaunch": false,
    "category": "Accelerated computing",
    "gpuNum": 8,
    "hideHardwareSpecs": false,
    "memoryGiB": 768,
    "name": "ml.g5.48xlarge",
    "vcpuNum": 192
   },
   {
    "_defaultOrder": 55,
    "_isFastLaunch": false,
    "category": "Accelerated computing",
    "gpuNum": 8,
    "hideHardwareSpecs": false,
    "memoryGiB": 1152,
    "name": "ml.p4d.24xlarge",
    "vcpuNum": 96
   },
   {
    "_defaultOrder": 56,
    "_isFastLaunch": false,
    "category": "Accelerated computing",
    "gpuNum": 8,
    "hideHardwareSpecs": false,
    "memoryGiB": 1152,
    "name": "ml.p4de.24xlarge",
    "vcpuNum": 96
   },
   {
    "_defaultOrder": 57,
    "_isFastLaunch": false,
    "category": "Accelerated computing",
    "gpuNum": 0,
    "hideHardwareSpecs": false,
    "memoryGiB": 32,
    "name": "ml.trn1.2xlarge",
    "vcpuNum": 8
   },
   {
    "_defaultOrder": 58,
    "_isFastLaunch": false,
    "category": "Accelerated computing",
    "gpuNum": 0,
    "hideHardwareSpecs": false,
    "memoryGiB": 512,
    "name": "ml.trn1.32xlarge",
    "vcpuNum": 128
   },
   {
    "_defaultOrder": 59,
    "_isFastLaunch": false,
    "category": "Accelerated computing",
    "gpuNum": 0,
    "hideHardwareSpecs": false,
    "memoryGiB": 512,
    "name": "ml.trn1n.32xlarge",
    "vcpuNum": 128
   }
  ],
  "instance_type": "ml.m5.4xlarge",
  "kernelspec": {
   "display_name": "Python 3 (Data Science 3.0)",
   "language": "python",
   "name": "python3__SAGEMAKER_INTERNAL__arn:aws:sagemaker:eu-west-1:470317259841:image/sagemaker-data-science-310-v1"
  },
  "language_info": {
   "codemirror_mode": {
    "name": "ipython",
    "version": 3
   },
   "file_extension": ".py",
   "mimetype": "text/x-python",
   "name": "python",
   "nbconvert_exporter": "python",
   "pygments_lexer": "ipython3",
   "version": "3.10.6"
  }
 },
 "nbformat": 4,
 "nbformat_minor": 4
}
